{
 "cells": [
  {
   "cell_type": "code",
   "execution_count": 1,
   "id": "957989d9",
   "metadata": {},
   "outputs": [],
   "source": [
    "# !pip install findspark"
   ]
  },
  {
   "cell_type": "code",
   "execution_count": 2,
   "id": "7af3c329",
   "metadata": {},
   "outputs": [
    {
     "data": {
      "text/plain": [
       "'/usr/lib/spark'"
      ]
     },
     "execution_count": 2,
     "metadata": {},
     "output_type": "execute_result"
    }
   ],
   "source": [
    "import findspark\n",
    "findspark.init()\n",
    "findspark.find()"
   ]
  },
  {
   "cell_type": "markdown",
   "id": "de1920e0",
   "metadata": {},
   "source": []
  },
  {
   "cell_type": "markdown",
   "id": "de8bb00a",
   "metadata": {},
   "source": [
    "# MODEL"
   ]
  },
  {
   "cell_type": "code",
   "execution_count": 3,
   "id": "c7c47bb8",
   "metadata": {},
   "outputs": [],
   "source": [
    "from pyspark.sql import SparkSession\n",
    "from pyspark.sql.types import StructType,StructField, StringType, IntegerType, DoubleType"
   ]
  },
  {
   "cell_type": "code",
   "execution_count": 4,
   "id": "828638b9",
   "metadata": {},
   "outputs": [],
   "source": [
    "spark = (\n",
    "    SparkSession\n",
    "        .builder\n",
    "        .appName(\"hw7\")\n",
    "        .config(\"spark.executor.memory\", \"10g\")\n",
    "        .config(\"spark.driver.memory\", \"10g\")\n",
    "        .getOrCreate()\n",
    ")"
   ]
  },
  {
   "cell_type": "code",
   "execution_count": 5,
   "id": "b71d149d",
   "metadata": {},
   "outputs": [],
   "source": [
    "schema = StructType(\n",
    "    [\n",
    "        StructField(\"tranaction_id\",IntegerType(),True),\n",
    "        StructField(\"tx_datetime\",StringType(),True),\n",
    "        StructField(\"customer_id\",IntegerType(),True),\n",
    "        StructField(\"terminal_id\",IntegerType(),True),\n",
    "        StructField(\"tx_amount\",DoubleType(),True),\n",
    "        StructField(\"tx_time_seconds\",IntegerType(),True),\n",
    "        StructField(\"tx_time_days\",IntegerType(),True),\n",
    "        StructField(\"tx_fraud\",IntegerType(),True),\n",
    "        StructField(\"tx_fraud_scenario\",IntegerType(),True),\n",
    "    ]\n",
    ")"
   ]
  },
  {
   "cell_type": "code",
   "execution_count": 6,
   "id": "9813a9b7",
   "metadata": {},
   "outputs": [],
   "source": [
    "df = spark.read.options(header=True,inferSchema=False).schema(schema).parquet(\n",
    "    \"/user/root/datasets/set02/data_cleansed.parquet\"\n",
    ")"
   ]
  },
  {
   "cell_type": "code",
   "execution_count": 7,
   "id": "cded6d40",
   "metadata": {},
   "outputs": [
    {
     "data": {
      "text/plain": [
       "45693570"
      ]
     },
     "execution_count": 7,
     "metadata": {},
     "output_type": "execute_result"
    }
   ],
   "source": [
    "df.count()"
   ]
  },
  {
   "cell_type": "code",
   "execution_count": 8,
   "id": "32dab59d",
   "metadata": {},
   "outputs": [],
   "source": [
    "df_sample = df.sample(fraction=0.1, seed=3)"
   ]
  },
  {
   "cell_type": "code",
   "execution_count": 9,
   "id": "ae8b0451",
   "metadata": {},
   "outputs": [
    {
     "data": {
      "text/plain": [
       "4568988"
      ]
     },
     "execution_count": 9,
     "metadata": {},
     "output_type": "execute_result"
    }
   ],
   "source": [
    "df_sample.count()"
   ]
  },
  {
   "cell_type": "code",
   "execution_count": 10,
   "id": "ee97eec8",
   "metadata": {},
   "outputs": [
    {
     "name": "stdout",
     "output_type": "stream",
     "text": [
      "+-------------+-------------------+-----------+-----------+---------+---------------+------------+--------+-----------------+\n",
      "|tranaction_id|        tx_datetime|customer_id|terminal_id|tx_amount|tx_time_seconds|tx_time_days|tx_fraud|tx_fraud_scenario|\n",
      "+-------------+-------------------+-----------+-----------+---------+---------------+------------+--------+-----------------+\n",
      "|   1836822545|2022-11-06 14:21:07|     573306|        844|    28.64|      101312467|        1172|       0|                0|\n",
      "|   1836826849|2022-11-06 02:58:34|     576031|        328|    31.66|      101271514|        1172|       0|                0|\n",
      "|   1836827722|2022-11-06 12:25:44|     576623|        688|     9.83|      101305544|        1172|       0|                0|\n",
      "|   1836827855|2022-11-06 10:44:16|     576731|        877|    40.04|      101299456|        1172|       0|                0|\n",
      "|   1836828249|2022-11-06 19:09:56|     576977|        191|    65.79|      101329796|        1172|       0|                0|\n",
      "|   1836828390|2022-11-06 12:56:06|     577059|        681|     64.8|      101307366|        1172|       0|                0|\n",
      "|   1836831980|2022-11-06 11:44:43|     579353|        145|   122.49|      101303083|        1172|       0|                0|\n",
      "|   1836833059|2022-11-06 01:09:41|     580017|        138|   138.58|      101264981|        1172|       0|                0|\n",
      "|   1836835151|2022-11-06 06:04:22|     581268|        408|    50.63|      101282662|        1172|       0|                0|\n",
      "|   1836842581|2022-11-06 08:52:29|     585973|          0|   133.61|      101292749|        1172|       0|                0|\n",
      "+-------------+-------------------+-----------+-----------+---------+---------------+------------+--------+-----------------+\n",
      "only showing top 10 rows\n",
      "\n"
     ]
    }
   ],
   "source": [
    "df_sample.show(10)"
   ]
  },
  {
   "cell_type": "code",
   "execution_count": null,
   "id": "ac720cf3",
   "metadata": {},
   "outputs": [],
   "source": []
  },
  {
   "cell_type": "code",
   "execution_count": 11,
   "id": "f86e699a",
   "metadata": {},
   "outputs": [],
   "source": [
    "from pyspark.ml.feature import VectorAssembler"
   ]
  },
  {
   "cell_type": "code",
   "execution_count": 12,
   "id": "375e5dc3",
   "metadata": {},
   "outputs": [],
   "source": [
    "features_assembler = VectorAssembler(inputCols=[\n",
    "    \"terminal_id\",\n",
    "    \"tx_amount\",\n",
    "    \"tx_time_seconds\",\n",
    "    \"tx_time_days\",\n",
    "    ],\n",
    "    outputCol=\"Features\",\n",
    "    handleInvalid=\"skip\"\n",
    ")"
   ]
  },
  {
   "cell_type": "code",
   "execution_count": 13,
   "id": "91160f4d",
   "metadata": {},
   "outputs": [],
   "source": [
    "# X_train = features_assembler.transform(df_sample)"
   ]
  },
  {
   "cell_type": "code",
   "execution_count": 14,
   "id": "6a864714",
   "metadata": {},
   "outputs": [],
   "source": [
    "from pyspark.ml.pipeline import Pipeline\n",
    "\n",
    "feat_ext_pipe = Pipeline(stages=[\n",
    "    features_assembler,\n",
    "]).fit(df_sample)"
   ]
  },
  {
   "cell_type": "code",
   "execution_count": 15,
   "id": "a9d33579",
   "metadata": {},
   "outputs": [],
   "source": [
    "feat_ext_pipe.write().overwrite().save(\"feat_ext_pipe.joblib\")"
   ]
  },
  {
   "cell_type": "code",
   "execution_count": 16,
   "id": "4003157c",
   "metadata": {},
   "outputs": [],
   "source": [
    "from pyspark.ml.pipeline import PipelineModel"
   ]
  },
  {
   "cell_type": "code",
   "execution_count": 17,
   "id": "4bb377c6",
   "metadata": {},
   "outputs": [],
   "source": [
    "feat_ext_pipe2 = PipelineModel.load(\"feat_ext_pipe.joblib\")"
   ]
  },
  {
   "cell_type": "code",
   "execution_count": 18,
   "id": "00ab0055",
   "metadata": {},
   "outputs": [
    {
     "data": {
      "text/plain": [
       "PipelineModel_5e5abb14a4e9"
      ]
     },
     "execution_count": 18,
     "metadata": {},
     "output_type": "execute_result"
    }
   ],
   "source": [
    "feat_ext_pipe"
   ]
  },
  {
   "cell_type": "code",
   "execution_count": 19,
   "id": "b8c4b662",
   "metadata": {},
   "outputs": [],
   "source": [
    "X_train = feat_ext_pipe.transform(df_sample)"
   ]
  },
  {
   "cell_type": "code",
   "execution_count": 20,
   "id": "4d26b924",
   "metadata": {},
   "outputs": [
    {
     "name": "stdout",
     "output_type": "stream",
     "text": [
      "+-------------+-------------------+-----------+-----------+---------+---------------+------------+--------+-----------------+--------------------+\n",
      "|tranaction_id|        tx_datetime|customer_id|terminal_id|tx_amount|tx_time_seconds|tx_time_days|tx_fraud|tx_fraud_scenario|            Features|\n",
      "+-------------+-------------------+-----------+-----------+---------+---------------+------------+--------+-----------------+--------------------+\n",
      "|   1836822545|2022-11-06 14:21:07|     573306|        844|    28.64|      101312467|        1172|       0|                0|[844.0,28.64,1.01...|\n",
      "|   1836826849|2022-11-06 02:58:34|     576031|        328|    31.66|      101271514|        1172|       0|                0|[328.0,31.66,1.01...|\n",
      "|   1836827722|2022-11-06 12:25:44|     576623|        688|     9.83|      101305544|        1172|       0|                0|[688.0,9.83,1.013...|\n",
      "|   1836827855|2022-11-06 10:44:16|     576731|        877|    40.04|      101299456|        1172|       0|                0|[877.0,40.04,1.01...|\n",
      "|   1836828249|2022-11-06 19:09:56|     576977|        191|    65.79|      101329796|        1172|       0|                0|[191.0,65.79,1.01...|\n",
      "|   1836828390|2022-11-06 12:56:06|     577059|        681|     64.8|      101307366|        1172|       0|                0|[681.0,64.8,1.013...|\n",
      "|   1836831980|2022-11-06 11:44:43|     579353|        145|   122.49|      101303083|        1172|       0|                0|[145.0,122.49,1.0...|\n",
      "|   1836833059|2022-11-06 01:09:41|     580017|        138|   138.58|      101264981|        1172|       0|                0|[138.0,138.58,1.0...|\n",
      "|   1836835151|2022-11-06 06:04:22|     581268|        408|    50.63|      101282662|        1172|       0|                0|[408.0,50.63,1.01...|\n",
      "|   1836842581|2022-11-06 08:52:29|     585973|          0|   133.61|      101292749|        1172|       0|                0|[0.0,133.61,1.012...|\n",
      "+-------------+-------------------+-----------+-----------+---------+---------------+------------+--------+-----------------+--------------------+\n",
      "only showing top 10 rows\n",
      "\n"
     ]
    }
   ],
   "source": [
    "X_train.show(10)"
   ]
  },
  {
   "cell_type": "code",
   "execution_count": 21,
   "id": "fa339410",
   "metadata": {},
   "outputs": [
    {
     "name": "stdout",
     "output_type": "stream",
     "text": [
      "+-------------+-------------------+-----------+-----------+---------+---------------+------------+--------+-----------------+\n",
      "|tranaction_id|        tx_datetime|customer_id|terminal_id|tx_amount|tx_time_seconds|tx_time_days|tx_fraud|tx_fraud_scenario|\n",
      "+-------------+-------------------+-----------+-----------+---------+---------------+------------+--------+-----------------+\n",
      "|   1836822545|2022-11-06 14:21:07|     573306|        844|    28.64|      101312467|        1172|       0|                0|\n",
      "+-------------+-------------------+-----------+-----------+---------+---------------+------------+--------+-----------------+\n",
      "only showing top 1 row\n",
      "\n"
     ]
    }
   ],
   "source": [
    "df_sample.show(1)"
   ]
  },
  {
   "cell_type": "code",
   "execution_count": 22,
   "id": "062c6d2f",
   "metadata": {},
   "outputs": [
    {
     "data": {
      "text/plain": [
       "['tranaction_id',\n",
       " 'tx_datetime',\n",
       " 'customer_id',\n",
       " 'terminal_id',\n",
       " 'tx_amount',\n",
       " 'tx_time_seconds',\n",
       " 'tx_time_days',\n",
       " 'tx_fraud',\n",
       " 'tx_fraud_scenario']"
      ]
     },
     "execution_count": 22,
     "metadata": {},
     "output_type": "execute_result"
    }
   ],
   "source": [
    "df_sample.columns"
   ]
  },
  {
   "cell_type": "code",
   "execution_count": 23,
   "id": "b8f0a381",
   "metadata": {},
   "outputs": [],
   "source": [
    "from pyspark.ml.classification import RandomForestClassifier, RandomForestClassificationModel\n",
    "rf = RandomForestClassifier(numTrees=3, maxDepth=2, labelCol=\"tx_fraud\", seed=42, leafCol=\"leafId\", featuresCol='Features')"
   ]
  },
  {
   "cell_type": "code",
   "execution_count": 24,
   "id": "8a982842",
   "metadata": {},
   "outputs": [],
   "source": [
    "model = rf.fit(X_train)"
   ]
  },
  {
   "cell_type": "code",
   "execution_count": 25,
   "id": "8da8e712",
   "metadata": {},
   "outputs": [],
   "source": [
    "model.write().overwrite().save(\"spark_model.joblib\")"
   ]
  },
  {
   "cell_type": "code",
   "execution_count": 26,
   "id": "5f664160",
   "metadata": {},
   "outputs": [],
   "source": [
    "model2 = RandomForestClassificationModel.load(\"spark_model.joblib\")"
   ]
  },
  {
   "cell_type": "code",
   "execution_count": 27,
   "id": "18ae4fea",
   "metadata": {},
   "outputs": [
    {
     "data": {
      "text/plain": [
       "StructType(List(StructField(tranaction_id,IntegerType,true),StructField(tx_datetime,StringType,true),StructField(customer_id,IntegerType,true),StructField(terminal_id,IntegerType,true),StructField(tx_amount,DoubleType,true),StructField(tx_time_seconds,IntegerType,true),StructField(tx_time_days,IntegerType,true),StructField(tx_fraud,IntegerType,true),StructField(tx_fraud_scenario,IntegerType,true)))"
      ]
     },
     "execution_count": 27,
     "metadata": {},
     "output_type": "execute_result"
    }
   ],
   "source": [
    "schema"
   ]
  },
  {
   "cell_type": "code",
   "execution_count": 28,
   "id": "84fcea63",
   "metadata": {},
   "outputs": [],
   "source": [
    "schema_inf = StructType(\n",
    "    [\n",
    "        StructField(\"tranaction_id\",IntegerType(),True),\n",
    "        StructField(\"tx_datetime\",StringType(),True),\n",
    "        StructField(\"customer_id\",IntegerType(),True),\n",
    "        StructField(\"terminal_id\",IntegerType(),True),\n",
    "        StructField(\"tx_amount\",DoubleType(),True),\n",
    "        StructField(\"tx_time_seconds\",IntegerType(),True),\n",
    "        StructField(\"tx_time_days\",IntegerType(),True),\n",
    "        # StructField(\"tx_fraud\",IntegerType(),True),\n",
    "        # StructField(\"tx_fraud_scenario\",IntegerType(),True),\n",
    "    ]\n",
    ")"
   ]
  },
  {
   "cell_type": "code",
   "execution_count": 29,
   "id": "3881483c",
   "metadata": {},
   "outputs": [],
   "source": [
    "test0 = spark.createDataFrame(\n",
    "    [\n",
    "        (1836822545, \"2022-11-06 14:21:07\", 573306, 844, 28.64, 101312467, 1172),\n",
    "    ],\n",
    "    schema_inf\n",
    ")"
   ]
  },
  {
   "cell_type": "code",
   "execution_count": 30,
   "id": "2b711926",
   "metadata": {},
   "outputs": [
    {
     "data": {
      "text/plain": [
       "DataFrame[tranaction_id: int, tx_datetime: string, customer_id: int, terminal_id: int, tx_amount: double, tx_time_seconds: int, tx_time_days: int]"
      ]
     },
     "execution_count": 30,
     "metadata": {},
     "output_type": "execute_result"
    }
   ],
   "source": [
    "test0"
   ]
  },
  {
   "cell_type": "code",
   "execution_count": 31,
   "id": "81d0c4f8",
   "metadata": {},
   "outputs": [
    {
     "data": {
      "text/plain": [
       "0.0"
      ]
     },
     "execution_count": 31,
     "metadata": {},
     "output_type": "execute_result"
    }
   ],
   "source": [
    "model2.predict(feat_ext_pipe2.transform(test0).head().Features)"
   ]
  },
  {
   "cell_type": "code",
   "execution_count": 32,
   "id": "2a221ff1",
   "metadata": {},
   "outputs": [],
   "source": [
    "inf = feat_ext_pipe2.transform(test0)"
   ]
  },
  {
   "cell_type": "code",
   "execution_count": 33,
   "id": "f813754f",
   "metadata": {},
   "outputs": [
    {
     "name": "stdout",
     "output_type": "stream",
     "text": [
      "+-------------+-------------------+-----------+-----------+---------+---------------+------------+--------------------+--------------------+--------------------+----------+-------------+\n",
      "|tranaction_id|        tx_datetime|customer_id|terminal_id|tx_amount|tx_time_seconds|tx_time_days|            Features|       rawPrediction|         probability|prediction|       leafId|\n",
      "+-------------+-------------------+-----------+-----------+---------+---------------+------------+--------------------+--------------------+--------------------+----------+-------------+\n",
      "|   1836822545|2022-11-06 14:21:07|     573306|        844|    28.64|      101312467|        1172|[844.0,28.64,1.01...|[2.91377163899818...|[0.97125721299939...|       0.0|[0.0,0.0,0.0]|\n",
      "+-------------+-------------------+-----------+-----------+---------+---------------+------------+--------------------+--------------------+--------------------+----------+-------------+\n",
      "\n"
     ]
    }
   ],
   "source": [
    "model2.transform(inf).show()"
   ]
  },
  {
   "cell_type": "code",
   "execution_count": 34,
   "id": "2a373ebb",
   "metadata": {},
   "outputs": [
    {
     "data": {
      "text/plain": [
       "['tranaction_id',\n",
       " 'tx_datetime',\n",
       " 'customer_id',\n",
       " 'terminal_id',\n",
       " 'tx_amount',\n",
       " 'tx_time_seconds',\n",
       " 'tx_time_days',\n",
       " 'Features']"
      ]
     },
     "execution_count": 34,
     "metadata": {},
     "output_type": "execute_result"
    }
   ],
   "source": [
    "inf.columns"
   ]
  },
  {
   "cell_type": "code",
   "execution_count": null,
   "id": "328edea4",
   "metadata": {},
   "outputs": [],
   "source": []
  }
 ],
 "metadata": {
  "kernelspec": {
   "display_name": "Python 3",
   "language": "python",
   "name": "python3"
  },
  "language_info": {
   "codemirror_mode": {
    "name": "ipython",
    "version": 3
   },
   "file_extension": ".py",
   "mimetype": "text/x-python",
   "name": "python",
   "nbconvert_exporter": "python",
   "pygments_lexer": "ipython3",
   "version": "3.8.10"
  }
 },
 "nbformat": 4,
 "nbformat_minor": 5
}
