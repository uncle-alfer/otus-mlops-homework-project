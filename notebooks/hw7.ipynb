{
 "cells": [
  {
   "cell_type": "code",
   "execution_count": 1,
   "id": "957989d9",
   "metadata": {},
   "outputs": [],
   "source": [
    "# !pip install findspark"
   ]
  },
  {
   "cell_type": "code",
   "execution_count": 2,
   "id": "7af3c329",
   "metadata": {},
   "outputs": [
    {
     "data": {
      "text/plain": [
       "'/usr/lib/spark'"
      ]
     },
     "execution_count": 2,
     "metadata": {},
     "output_type": "execute_result"
    }
   ],
   "source": [
    "import findspark\n",
    "findspark.init()\n",
    "findspark.find()"
   ]
  },
  {
   "cell_type": "markdown",
   "id": "de1920e0",
   "metadata": {},
   "source": []
  },
  {
   "cell_type": "markdown",
   "id": "de8bb00a",
   "metadata": {},
   "source": [
    "# MODEL"
   ]
  },
  {
   "cell_type": "code",
   "execution_count": 3,
   "id": "c7c47bb8",
   "metadata": {},
   "outputs": [],
   "source": [
    "from pyspark.sql import SparkSession\n",
    "from pyspark.sql.types import StructType,StructField, StringType, IntegerType, DoubleType"
   ]
  },
  {
   "cell_type": "code",
   "execution_count": 4,
   "id": "828638b9",
   "metadata": {},
   "outputs": [],
   "source": [
    "spark = (\n",
    "    SparkSession\n",
    "        .builder\n",
    "        .appName(\"hw7\")\n",
    "        .config(\"spark.executor.memory\", \"10g\")\n",
    "        .config(\"spark.driver.memory\", \"10g\")\n",
    "        .getOrCreate()\n",
    ")"
   ]
  },
  {
   "cell_type": "code",
   "execution_count": 5,
   "id": "b71d149d",
   "metadata": {},
   "outputs": [],
   "source": [
    "schema = StructType(\n",
    "    [\n",
    "        StructField(\"tranaction_id\",IntegerType(),True),\n",
    "        StructField(\"tx_datetime\",StringType(),True),\n",
    "        StructField(\"customer_id\",IntegerType(),True),\n",
    "        StructField(\"terminal_id\",IntegerType(),True),\n",
    "        StructField(\"tx_amount\",DoubleType(),True),\n",
    "        StructField(\"tx_time_seconds\",IntegerType(),True),\n",
    "        StructField(\"tx_time_days\",IntegerType(),True),\n",
    "        StructField(\"tx_fraud\",IntegerType(),True),\n",
    "        StructField(\"tx_fraud_scenario\",IntegerType(),True),\n",
    "    ]\n",
    ")"
   ]
  },
  {
   "cell_type": "code",
   "execution_count": 6,
   "id": "9813a9b7",
   "metadata": {},
   "outputs": [],
   "source": [
    "df = spark.read.options(header=True,inferSchema=False).schema(schema).parquet(\n",
    "    \"/user/root/datasets/set02/data_cleansed.parquet\"\n",
    ")"
   ]
  },
  {
   "cell_type": "code",
   "execution_count": 7,
   "id": "cded6d40",
   "metadata": {},
   "outputs": [
    {
     "data": {
      "text/plain": [
       "45693570"
      ]
     },
     "execution_count": 7,
     "metadata": {},
     "output_type": "execute_result"
    }
   ],
   "source": [
    "df.count()"
   ]
  },
  {
   "cell_type": "code",
   "execution_count": 8,
   "id": "32dab59d",
   "metadata": {},
   "outputs": [],
   "source": [
    "df_sample = df.sample(fraction=0.1, seed=3)"
   ]
  },
  {
   "cell_type": "code",
   "execution_count": 9,
   "id": "ae8b0451",
   "metadata": {},
   "outputs": [
    {
     "data": {
      "text/plain": [
       "4568988"
      ]
     },
     "execution_count": 9,
     "metadata": {},
     "output_type": "execute_result"
    }
   ],
   "source": [
    "df_sample.count()"
   ]
  },
  {
   "cell_type": "code",
   "execution_count": 10,
   "id": "ee97eec8",
   "metadata": {},
   "outputs": [
    {
     "name": "stdout",
     "output_type": "stream",
     "text": [
      "+-------------+-------------------+-----------+-----------+---------+---------------+------------+--------+-----------------+\n",
      "|tranaction_id|        tx_datetime|customer_id|terminal_id|tx_amount|tx_time_seconds|tx_time_days|tx_fraud|tx_fraud_scenario|\n",
      "+-------------+-------------------+-----------+-----------+---------+---------------+------------+--------+-----------------+\n",
      "|   1836822545|2022-11-06 14:21:07|     573306|        844|    28.64|      101312467|        1172|       0|                0|\n",
      "|   1836826849|2022-11-06 02:58:34|     576031|        328|    31.66|      101271514|        1172|       0|                0|\n",
      "|   1836827722|2022-11-06 12:25:44|     576623|        688|     9.83|      101305544|        1172|       0|                0|\n",
      "|   1836827855|2022-11-06 10:44:16|     576731|        877|    40.04|      101299456|        1172|       0|                0|\n",
      "|   1836828249|2022-11-06 19:09:56|     576977|        191|    65.79|      101329796|        1172|       0|                0|\n",
      "|   1836828390|2022-11-06 12:56:06|     577059|        681|     64.8|      101307366|        1172|       0|                0|\n",
      "|   1836831980|2022-11-06 11:44:43|     579353|        145|   122.49|      101303083|        1172|       0|                0|\n",
      "|   1836833059|2022-11-06 01:09:41|     580017|        138|   138.58|      101264981|        1172|       0|                0|\n",
      "|   1836835151|2022-11-06 06:04:22|     581268|        408|    50.63|      101282662|        1172|       0|                0|\n",
      "|   1836842581|2022-11-06 08:52:29|     585973|          0|   133.61|      101292749|        1172|       0|                0|\n",
      "+-------------+-------------------+-----------+-----------+---------+---------------+------------+--------+-----------------+\n",
      "only showing top 10 rows\n",
      "\n"
     ]
    }
   ],
   "source": [
    "df_sample.show(10)"
   ]
  },
  {
   "cell_type": "code",
   "execution_count": null,
   "id": "ac720cf3",
   "metadata": {},
   "outputs": [],
   "source": []
  },
  {
   "cell_type": "code",
   "execution_count": 11,
   "id": "f86e699a",
   "metadata": {},
   "outputs": [],
   "source": [
    "from pyspark.ml.feature import VectorAssembler"
   ]
  },
  {
   "cell_type": "code",
   "execution_count": 43,
   "id": "375e5dc3",
   "metadata": {},
   "outputs": [],
   "source": [
    "features_assembler = VectorAssembler(inputCols=[\n",
    "    \"terminal_id\",\n",
    "    \"tx_amount\",\n",
    "    \"tx_time_seconds\",\n",
    "    \"tx_time_days\",\n",
    "    ],\n",
    "    outputCol=\"Features\",\n",
    "    handleInvalid=\"skip\"\n",
    ")"
   ]
  },
  {
   "cell_type": "code",
   "execution_count": 13,
   "id": "91160f4d",
   "metadata": {},
   "outputs": [],
   "source": [
    "# X_train = features_assembler.transform(df_sample)"
   ]
  },
  {
   "cell_type": "code",
   "execution_count": 44,
   "id": "6a864714",
   "metadata": {},
   "outputs": [],
   "source": [
    "from pyspark.ml.pipeline import Pipeline\n",
    "\n",
    "feat_ext_pipe = Pipeline(stages=[\n",
    "    features_assembler,\n",
    "]).fit(df_sample)"
   ]
  },
  {
   "cell_type": "code",
   "execution_count": 45,
   "id": "a9d33579",
   "metadata": {},
   "outputs": [],
   "source": [
    "feat_ext_pipe.write().overwrite().save(\"feat_ext_pipe.joblib\")"
   ]
  },
  {
   "cell_type": "code",
   "execution_count": 16,
   "id": "4003157c",
   "metadata": {},
   "outputs": [],
   "source": [
    "from pyspark.ml.pipeline import PipelineModel"
   ]
  },
  {
   "cell_type": "code",
   "execution_count": 17,
   "id": "4bb377c6",
   "metadata": {},
   "outputs": [],
   "source": [
    "feat_ext_pipe2 = PipelineModel.load(\"feat_ext_pipe.joblib\")"
   ]
  },
  {
   "cell_type": "code",
   "execution_count": 19,
   "id": "00ab0055",
   "metadata": {},
   "outputs": [
    {
     "data": {
      "text/plain": [
       "PipelineModel_0c4d6279d902"
      ]
     },
     "execution_count": 19,
     "metadata": {},
     "output_type": "execute_result"
    }
   ],
   "source": [
    "feat_ext_pipe"
   ]
  },
  {
   "cell_type": "code",
   "execution_count": 20,
   "id": "b8c4b662",
   "metadata": {},
   "outputs": [],
   "source": [
    "X_train = feat_ext_pipe.transform(df_sample)"
   ]
  },
  {
   "cell_type": "code",
   "execution_count": 21,
   "id": "4d26b924",
   "metadata": {},
   "outputs": [
    {
     "name": "stdout",
     "output_type": "stream",
     "text": [
      "+-------------+-------------------+-----------+-----------+---------+---------------+------------+--------+-----------------+--------------------+\n",
      "|tranaction_id|        tx_datetime|customer_id|terminal_id|tx_amount|tx_time_seconds|tx_time_days|tx_fraud|tx_fraud_scenario|            Features|\n",
      "+-------------+-------------------+-----------+-----------+---------+---------------+------------+--------+-----------------+--------------------+\n",
      "|   1836822545|2022-11-06 14:21:07|     573306|        844|    28.64|      101312467|        1172|       0|                0|[844.0,28.64,1.01...|\n",
      "|   1836826849|2022-11-06 02:58:34|     576031|        328|    31.66|      101271514|        1172|       0|                0|[328.0,31.66,1.01...|\n",
      "|   1836827722|2022-11-06 12:25:44|     576623|        688|     9.83|      101305544|        1172|       0|                0|[688.0,9.83,1.013...|\n",
      "|   1836827855|2022-11-06 10:44:16|     576731|        877|    40.04|      101299456|        1172|       0|                0|[877.0,40.04,1.01...|\n",
      "|   1836828249|2022-11-06 19:09:56|     576977|        191|    65.79|      101329796|        1172|       0|                0|[191.0,65.79,1.01...|\n",
      "|   1836828390|2022-11-06 12:56:06|     577059|        681|     64.8|      101307366|        1172|       0|                0|[681.0,64.8,1.013...|\n",
      "|   1836831980|2022-11-06 11:44:43|     579353|        145|   122.49|      101303083|        1172|       0|                0|[145.0,122.49,1.0...|\n",
      "|   1836833059|2022-11-06 01:09:41|     580017|        138|   138.58|      101264981|        1172|       0|                0|[138.0,138.58,1.0...|\n",
      "|   1836835151|2022-11-06 06:04:22|     581268|        408|    50.63|      101282662|        1172|       0|                0|[408.0,50.63,1.01...|\n",
      "|   1836842581|2022-11-06 08:52:29|     585973|          0|   133.61|      101292749|        1172|       0|                0|[0.0,133.61,1.012...|\n",
      "+-------------+-------------------+-----------+-----------+---------+---------------+------------+--------+-----------------+--------------------+\n",
      "only showing top 10 rows\n",
      "\n"
     ]
    }
   ],
   "source": [
    "X_train.show(10)"
   ]
  },
  {
   "cell_type": "code",
   "execution_count": 22,
   "id": "fa339410",
   "metadata": {},
   "outputs": [
    {
     "name": "stdout",
     "output_type": "stream",
     "text": [
      "+-------------+-------------------+-----------+-----------+---------+---------------+------------+--------+-----------------+\n",
      "|tranaction_id|        tx_datetime|customer_id|terminal_id|tx_amount|tx_time_seconds|tx_time_days|tx_fraud|tx_fraud_scenario|\n",
      "+-------------+-------------------+-----------+-----------+---------+---------------+------------+--------+-----------------+\n",
      "|   1836822545|2022-11-06 14:21:07|     573306|        844|    28.64|      101312467|        1172|       0|                0|\n",
      "+-------------+-------------------+-----------+-----------+---------+---------------+------------+--------+-----------------+\n",
      "only showing top 1 row\n",
      "\n"
     ]
    }
   ],
   "source": [
    "df_sample.show(1)"
   ]
  },
  {
   "cell_type": "code",
   "execution_count": 23,
   "id": "062c6d2f",
   "metadata": {},
   "outputs": [
    {
     "data": {
      "text/plain": [
       "['tranaction_id',\n",
       " 'tx_datetime',\n",
       " 'customer_id',\n",
       " 'terminal_id',\n",
       " 'tx_amount',\n",
       " 'tx_time_seconds',\n",
       " 'tx_time_days',\n",
       " 'tx_fraud',\n",
       " 'tx_fraud_scenario']"
      ]
     },
     "execution_count": 23,
     "metadata": {},
     "output_type": "execute_result"
    }
   ],
   "source": [
    "df_sample.columns"
   ]
  },
  {
   "cell_type": "code",
   "execution_count": 24,
   "id": "b8f0a381",
   "metadata": {},
   "outputs": [],
   "source": [
    "from pyspark.ml.classification import RandomForestClassifier, RandomForestClassificationModel\n",
    "rf = RandomForestClassifier(numTrees=3, maxDepth=2, labelCol=\"tx_fraud\", seed=42, leafCol=\"leafId\", featuresCol='Features')"
   ]
  },
  {
   "cell_type": "code",
   "execution_count": 25,
   "id": "8a982842",
   "metadata": {},
   "outputs": [],
   "source": [
    "model = rf.fit(X_train)"
   ]
  },
  {
   "cell_type": "code",
   "execution_count": 26,
   "id": "8da8e712",
   "metadata": {},
   "outputs": [],
   "source": [
    "model.write().overwrite().save(\"spark_model.joblib\")"
   ]
  },
  {
   "cell_type": "code",
   "execution_count": 27,
   "id": "5f664160",
   "metadata": {},
   "outputs": [],
   "source": [
    "model2 = RandomForestClassificationModel.load(\"spark_model.joblib\")"
   ]
  },
  {
   "cell_type": "code",
   "execution_count": null,
   "id": "18ae4fea",
   "metadata": {},
   "outputs": [],
   "source": [
    "schema"
   ]
  },
  {
   "cell_type": "code",
   "execution_count": 28,
   "id": "84fcea63",
   "metadata": {},
   "outputs": [],
   "source": [
    "schema_inf = StructType(\n",
    "    [\n",
    "        StructField(\"tranaction_id\",IntegerType(),True),\n",
    "        StructField(\"tx_datetime\",StringType(),True),\n",
    "        StructField(\"customer_id\",IntegerType(),True),\n",
    "        StructField(\"terminal_id\",IntegerType(),True),\n",
    "        StructField(\"tx_amount\",DoubleType(),True),\n",
    "        StructField(\"tx_time_seconds\",IntegerType(),True),\n",
    "        StructField(\"tx_time_days\",IntegerType(),True),\n",
    "        # StructField(\"tx_fraud\",IntegerType(),True),\n",
    "        # StructField(\"tx_fraud_scenario\",IntegerType(),True),\n",
    "    ]\n",
    ")"
   ]
  },
  {
   "cell_type": "code",
   "execution_count": 29,
   "id": "3881483c",
   "metadata": {},
   "outputs": [],
   "source": [
    "test0 = spark.createDataFrame(\n",
    "    [\n",
    "        (1836822545, \"2022-11-06 14:21:07\", 573306, 844, 28.64, 101312467, 1172),\n",
    "    ],\n",
    "    schema_inf\n",
    ")"
   ]
  },
  {
   "cell_type": "code",
   "execution_count": null,
   "id": "2b711926",
   "metadata": {},
   "outputs": [],
   "source": [
    "test0"
   ]
  },
  {
   "cell_type": "code",
   "execution_count": 35,
   "id": "81d0c4f8",
   "metadata": {},
   "outputs": [
    {
     "data": {
      "text/plain": [
       "0.0"
      ]
     },
     "execution_count": 35,
     "metadata": {},
     "output_type": "execute_result"
    }
   ],
   "source": [
    "model2.predict(feat_ext_pipe2.transform(test0).head().Features)"
   ]
  },
  {
   "cell_type": "code",
   "execution_count": 39,
   "id": "2a221ff1",
   "metadata": {},
   "outputs": [],
   "source": [
    "inf = feat_ext_pipe2.transform(test0)"
   ]
  },
  {
   "cell_type": "code",
   "execution_count": 41,
   "id": "f813754f",
   "metadata": {},
   "outputs": [
    {
     "name": "stdout",
     "output_type": "stream",
     "text": [
      "+-------------+-------------------+-----------+-----------+---------+---------------+------------+--------------------+--------------------+--------------------+----------+-------------+\n",
      "|tranaction_id|        tx_datetime|customer_id|terminal_id|tx_amount|tx_time_seconds|tx_time_days|            Features|       rawPrediction|         probability|prediction|       leafId|\n",
      "+-------------+-------------------+-----------+-----------+---------+---------------+------------+--------------------+--------------------+--------------------+----------+-------------+\n",
      "|   1836822545|2022-11-06 14:21:07|     573306|        844|    28.64|      101312467|        1172|[844.0,28.64,1.01...|[2.91377163899818...|[0.97125721299939...|       0.0|[0.0,0.0,0.0]|\n",
      "+-------------+-------------------+-----------+-----------+---------+---------------+------------+--------------------+--------------------+--------------------+----------+-------------+\n",
      "\n"
     ]
    }
   ],
   "source": [
    "model2.transform(inf).show()"
   ]
  },
  {
   "cell_type": "code",
   "execution_count": 42,
   "id": "2a373ebb",
   "metadata": {},
   "outputs": [
    {
     "data": {
      "text/plain": [
       "['tranaction_id',\n",
       " 'tx_datetime',\n",
       " 'customer_id',\n",
       " 'terminal_id',\n",
       " 'tx_amount',\n",
       " 'tx_time_seconds',\n",
       " 'tx_time_days',\n",
       " 'Features']"
      ]
     },
     "execution_count": 42,
     "metadata": {},
     "output_type": "execute_result"
    }
   ],
   "source": [
    "inf.columns"
   ]
  },
  {
   "cell_type": "markdown",
   "id": "39f210b3",
   "metadata": {},
   "source": [
    "# KAFKA"
   ]
  },
  {
   "cell_type": "code",
   "execution_count": null,
   "id": "3dba2c95",
   "metadata": {},
   "outputs": [],
   "source": [
    "# !sudo apt-get install openjdk-8-jdk-headless -qq > /dev/null\n",
    "# !sudo pip install kafka-python"
   ]
  },
  {
   "cell_type": "code",
   "execution_count": null,
   "id": "d816d4d1",
   "metadata": {},
   "outputs": [],
   "source": [
    "# import os"
   ]
  },
  {
   "cell_type": "code",
   "execution_count": null,
   "id": "be3565d8",
   "metadata": {},
   "outputs": [],
   "source": [
    "# os.environ[\"JAVA_HOME\"] = \"/usr/lib/jvm/java-8-openjdk-amd64\""
   ]
  },
  {
   "cell_type": "code",
   "execution_count": null,
   "id": "e0e0862d",
   "metadata": {},
   "outputs": [],
   "source": [
    "# !wget https://repo1.maven.org/maven2/org/apache/spark/spark-sql-kafka-0-10_2.12/3.2.4/spark-sql-kafka-0-10_2.12-3.2.4.jar\n",
    "# !sudo mkdir /usr/local/lib/python3.8/dist-packages/pyspark\n",
    "# !sudo mkdir /usr/local/lib/python3.8/dist-packages/pyspark/jars\n",
    "# !sudo mv spark-sql-kafka-0-10_2.12-3.2.4.jar /usr/local/lib/python3.8/dist-packages/pyspark/jars/"
   ]
  },
  {
   "cell_type": "code",
   "execution_count": null,
   "id": "012dcd85",
   "metadata": {},
   "outputs": [],
   "source": [
    "# !wget https://repo1.maven.org/maven2/org/apache/spark/spark-sql-kafka-0-10_2.12/3.0.3/spark-sql-kafka-0-10_2.12-3.0.3.jar\n",
    "# # !sudo mkdir /usr/local/lib/python3.8/dist-packages/pyspark\n",
    "# # !sudo mkdir /usr/local/lib/python3.8/dist-packages/pyspark/jars\n",
    "# !sudo mv spark-sql-kafka-0-10_2.12-3.0.3.jar /usr/local/lib/python3.8/dist-packages/pyspark/jars/"
   ]
  },
  {
   "cell_type": "code",
   "execution_count": null,
   "id": "1cef87a8",
   "metadata": {},
   "outputs": [],
   "source": [
    "# os.environ['PYSPARK_SUBMIT_ARGS'] = '--jars org.apache.spark:spark-sql-kafka-0-10_2.12:3.2.4 --packages org.apache.spark:spark-sql-kafka-0-10_2.12:3.2.4 pyspark-shell'"
   ]
  },
  {
   "cell_type": "code",
   "execution_count": null,
   "id": "d5eabd5b",
   "metadata": {},
   "outputs": [],
   "source": [
    "# spark_stream = SparkSession.builder \\\n",
    "#     .appName(\"stream\") \\\n",
    "#     .master(\"local[*]\") \\\n",
    "#     .config(\"spark.jars.packages\", \"org.apache.spark:spark-sql-kafka-0-10_2.12:3.2.4\") \\\n",
    "#     .config(\"spark.jars\", \"org.apache.spark:spark-sql-kafka-0-10_2.12:3.2.4\") \\\n",
    "#     .config(\"spark.packages\", \"org.apache.spark:spark-sql-kafka-0-10_2.12:3.2.4\") \\\n",
    "#     .getOrCreate()\n"
   ]
  },
  {
   "cell_type": "code",
   "execution_count": null,
   "id": "d1552f70",
   "metadata": {},
   "outputs": [],
   "source": [
    "# spark_stream = SparkSession.builder \\\n",
    "#     .appName(\"stream\") \\\n",
    "#     .config(\"spark.jars.packages\", \"org.apache.spark:spark-sql-kafka-0-10_2.12:3.2.4\") \\\n",
    "#     .config(\"spark.jars\", \"org.apache.spark:spark-sql-kafka-0-10_2.12:3.2.4\") \\\n",
    "#     .config(\"spark.packages\", \"org.apache.spark:spark-sql-kafka-0-10_2.12:3.2.4\") \\\n",
    "#     .getOrCreate()\n"
   ]
  },
  {
   "cell_type": "code",
   "execution_count": null,
   "id": "41c5ced4",
   "metadata": {},
   "outputs": [],
   "source": [
    "# spark_stream.conf.set(\"spark.sql.shuffle.partitions\", 1)"
   ]
  },
  {
   "cell_type": "code",
   "execution_count": null,
   "id": "2733ee18",
   "metadata": {},
   "outputs": [],
   "source": [
    "# stream = spark_stream.read.format(\"kafka\") \\\n",
    "#     .option(\"kafka.bootstrap.servers\", \"rc1a-e9s90k61kn45nunj.mdb.yandexcloud.net:9091\") \\\n",
    "#     .option(\"kafka.security.protocol\", \"SASL_SSL\") \\\n",
    "#     .option(\"kafka.sasl.mechanism\", \"SCRAM-SHA-256\") \\\n",
    "#     .option(\"kafka.sasl.username\", \"mlops\") \\\n",
    "#     .option(\"kafka.sasl.password\", \"otus-mlops\") \\\n",
    "#     .option(\"subscribe\", \"clicks\") \\\n",
    "#     .option(\"startingOffsets\", \"latest\") \\\n",
    "#     .load()"
   ]
  },
  {
   "cell_type": "code",
   "execution_count": null,
   "id": "31583d65",
   "metadata": {},
   "outputs": [],
   "source": []
  },
  {
   "cell_type": "code",
   "execution_count": null,
   "id": "328edea4",
   "metadata": {},
   "outputs": [],
   "source": []
  }
 ],
 "metadata": {
  "kernelspec": {
   "display_name": "Python 3",
   "language": "python",
   "name": "python3"
  },
  "language_info": {
   "codemirror_mode": {
    "name": "ipython",
    "version": 3
   },
   "file_extension": ".py",
   "mimetype": "text/x-python",
   "name": "python",
   "nbconvert_exporter": "python",
   "pygments_lexer": "ipython3",
   "version": "3.8.10"
  }
 },
 "nbformat": 4,
 "nbformat_minor": 5
}
