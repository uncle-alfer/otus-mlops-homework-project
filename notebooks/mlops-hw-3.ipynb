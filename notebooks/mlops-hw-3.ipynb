{
 "cells": [
  {
   "cell_type": "code",
   "execution_count": 1,
   "id": "1af0fbf4",
   "metadata": {},
   "outputs": [],
   "source": [
    "# ! pip install findspark"
   ]
  },
  {
   "cell_type": "code",
   "execution_count": 2,
   "id": "54e28ae5",
   "metadata": {},
   "outputs": [
    {
     "data": {
      "text/plain": [
       "'/usr/lib/spark'"
      ]
     },
     "execution_count": 2,
     "metadata": {},
     "output_type": "execute_result"
    }
   ],
   "source": [
    "import findspark\n",
    "findspark.init()\n",
    "findspark.find()"
   ]
  },
  {
   "cell_type": "code",
   "execution_count": 3,
   "id": "b54b1f56",
   "metadata": {},
   "outputs": [],
   "source": [
    "%matplotlib inline\n",
    "import pandas as pd\n",
    "import numpy as np"
   ]
  },
  {
   "cell_type": "code",
   "execution_count": 4,
   "id": "08fd5777",
   "metadata": {},
   "outputs": [],
   "source": [
    "from pyspark.sql import SparkSession\n",
    "from pyspark.sql.types import StructType,StructField, StringType, IntegerType, DoubleType\n",
    "from pyspark.sql.functions import col,isnan,when,count, trim\n",
    "import pyspark.sql.functions as F"
   ]
  },
  {
   "cell_type": "markdown",
   "id": "6a90da39",
   "metadata": {},
   "source": [
    "## создаем сессию"
   ]
  },
  {
   "cell_type": "code",
   "execution_count": 5,
   "id": "5de064eb",
   "metadata": {},
   "outputs": [],
   "source": [
    "spark = (\n",
    "    SparkSession\n",
    "        .builder\n",
    "        .appName(\"OTUS\")\n",
    "#         .config(\"spark.dynamicAllocation.enabled\", \"true\")\n",
    "        .config(\"spark.executor.memory\", \"10g\")\n",
    "        .config(\"spark.driver.memory\", \"10g\")\n",
    "        .getOrCreate()\n",
    ")"
   ]
  },
  {
   "cell_type": "markdown",
   "id": "3c00fb40",
   "metadata": {},
   "source": [
    "## читаем данные"
   ]
  },
  {
   "cell_type": "markdown",
   "id": "cc35e877",
   "metadata": {},
   "source": [
    "прочитаем только один из файлов для ускорения процесса"
   ]
  },
  {
   "cell_type": "code",
   "execution_count": 6,
   "id": "2f237501",
   "metadata": {},
   "outputs": [],
   "source": [
    "schema = StructType(\n",
    "    [\n",
    "        StructField(\"tranaction_id\",IntegerType(),True),\n",
    "        StructField(\"tx_datetime\",StringType(),True),\n",
    "        StructField(\"customer_id\",IntegerType(),True),\n",
    "        StructField(\"terminal_id\",IntegerType(),True),\n",
    "        StructField(\"tx_amount\",DoubleType(),True),\n",
    "        StructField(\"tx_time_seconds\",IntegerType(),True),\n",
    "        StructField(\"tx_time_days\",IntegerType(),True),\n",
    "        StructField(\"tx_fraud\",IntegerType(),True),\n",
    "        StructField(\"tx_fraud_scenario\",IntegerType(),True),\n",
    "    ]\n",
    ")"
   ]
  },
  {
   "cell_type": "code",
   "execution_count": 7,
   "id": "baa4b5f3",
   "metadata": {},
   "outputs": [],
   "source": [
    "# df = spark.read.options(header=True, delimiter=\",\", inferSchema=False).schema(schema).csv('/user/root/datasets/set01')"
   ]
  },
  {
   "cell_type": "code",
   "execution_count": 8,
   "id": "f90dae67",
   "metadata": {},
   "outputs": [],
   "source": [
    "# df = spark.read.options(header=True, delimiter=\",\", inferSchema=False).schema(schema).csv(\n",
    "#     [\n",
    "# #         '/user/root/datasets/set01/2022-10-05.txt',\n",
    "#          '/user/root/datasets/set01/2022-11-04.txt'\n",
    "#     ]\n",
    "# )"
   ]
  },
  {
   "cell_type": "code",
   "execution_count": 9,
   "id": "280632a6",
   "metadata": {},
   "outputs": [],
   "source": [
    "# df.write.parquet(\"/user/root/datasets/set01/data_part.parquet\")"
   ]
  },
  {
   "cell_type": "code",
   "execution_count": 10,
   "id": "e1a92710",
   "metadata": {},
   "outputs": [],
   "source": [
    "df = spark.read.options(header=True,inferSchema=False).schema(schema).parquet(\n",
    "    \"/user/root/datasets/set01/data_part.parquet\"\n",
    ")"
   ]
  },
  {
   "cell_type": "code",
   "execution_count": 11,
   "id": "83d225e5",
   "metadata": {},
   "outputs": [
    {
     "name": "stdout",
     "output_type": "stream",
     "text": [
      "root\n",
      " |-- tranaction_id: integer (nullable = true)\n",
      " |-- tx_datetime: string (nullable = true)\n",
      " |-- customer_id: integer (nullable = true)\n",
      " |-- terminal_id: integer (nullable = true)\n",
      " |-- tx_amount: double (nullable = true)\n",
      " |-- tx_time_seconds: integer (nullable = true)\n",
      " |-- tx_time_days: integer (nullable = true)\n",
      " |-- tx_fraud: integer (nullable = true)\n",
      " |-- tx_fraud_scenario: integer (nullable = true)\n",
      "\n"
     ]
    }
   ],
   "source": [
    "df.printSchema()"
   ]
  },
  {
   "cell_type": "code",
   "execution_count": 12,
   "id": "9cc4a251",
   "metadata": {},
   "outputs": [
    {
     "name": "stdout",
     "output_type": "stream",
     "text": [
      "+-------------+-------------------+-----------+-----------+---------+---------------+------------+--------+-----------------+\n",
      "|tranaction_id|        tx_datetime|customer_id|terminal_id|tx_amount|tx_time_seconds|tx_time_days|tx_fraud|tx_fraud_scenario|\n",
      "+-------------+-------------------+-----------+-----------+---------+---------------+------------+--------+-----------------+\n",
      "|   1838826044|2022-11-07 15:08:53|     850577|        324|    65.72|      101401733|        1173|       0|                0|\n",
      "|   1838826045|2022-11-07 15:09:45|     850579|        734|    83.88|      101401785|        1173|       0|                0|\n",
      "|   1838826046|2022-11-07 12:29:14|     850579|        533|    87.64|      101392154|        1173|       0|                0|\n",
      "|   1838826047|2022-11-07 06:50:02|     850580|        826|     3.81|      101371802|        1173|       0|                0|\n",
      "|   1838826048|2022-11-07 11:08:58|     850581|        115|    50.42|      101387338|        1173|       1|                2|\n",
      "|   1838826049|2022-11-07 22:01:55|     850581|        115|    29.64|      101426515|        1173|       1|                2|\n",
      "|   1838826050|2022-11-07 04:03:46|     850582|        896|    28.91|      101361826|        1173|       0|                0|\n",
      "|   1838826051|2022-11-07 10:35:41|     850583|        162|    43.75|      101385341|        1173|       0|                0|\n",
      "|   1838826052|2022-11-07 15:44:09|     850583|        142|    55.81|      101403849|        1173|       0|                0|\n",
      "|   1838826053|2022-11-07 15:54:41|     850583|        694|    44.95|      101404481|        1173|       0|                0|\n",
      "+-------------+-------------------+-----------+-----------+---------+---------------+------------+--------+-----------------+\n",
      "only showing top 10 rows\n",
      "\n"
     ]
    }
   ],
   "source": [
    "df.show(10)"
   ]
  },
  {
   "cell_type": "markdown",
   "id": "6df2d093",
   "metadata": {},
   "source": [
    "## какие есть таргеты?"
   ]
  },
  {
   "cell_type": "code",
   "execution_count": 13,
   "id": "5ba5a842",
   "metadata": {},
   "outputs": [],
   "source": [
    "# df.select('tx_fraud').distinct().limit(20).collect()"
   ]
  },
  {
   "cell_type": "code",
   "execution_count": 14,
   "id": "9a866951",
   "metadata": {},
   "outputs": [],
   "source": [
    "# df.select('tx_fraud_scenario').distinct().show()"
   ]
  },
  {
   "cell_type": "code",
   "execution_count": 15,
   "id": "c0ec858a",
   "metadata": {},
   "outputs": [
    {
     "name": "stdout",
     "output_type": "stream",
     "text": [
      "+--------+--------+\n",
      "|tx_fraud|   count|\n",
      "+--------+--------+\n",
      "|       1| 1406151|\n",
      "|       0|45592832|\n",
      "+--------+--------+\n",
      "\n"
     ]
    }
   ],
   "source": [
    "df.groupBy(\"tx_fraud\").count().show()"
   ]
  },
  {
   "cell_type": "code",
   "execution_count": 16,
   "id": "0d6ddc0e",
   "metadata": {},
   "outputs": [
    {
     "name": "stdout",
     "output_type": "stream",
     "text": [
      "+-----------------+--------+\n",
      "|tx_fraud_scenario|   count|\n",
      "+-----------------+--------+\n",
      "|                1|   26226|\n",
      "|                3|   50957|\n",
      "|                2| 1328968|\n",
      "|                0|45592832|\n",
      "+-----------------+--------+\n",
      "\n"
     ]
    }
   ],
   "source": [
    "df.groupBy(\"tx_fraud_scenario\").count().show()"
   ]
  },
  {
   "cell_type": "markdown",
   "id": "e98da4d7",
   "metadata": {},
   "source": [
    "## общее количество"
   ]
  },
  {
   "cell_type": "code",
   "execution_count": 17,
   "id": "15560527",
   "metadata": {},
   "outputs": [
    {
     "data": {
      "text/plain": [
       "46998983"
      ]
     },
     "execution_count": 17,
     "metadata": {},
     "output_type": "execute_result"
    }
   ],
   "source": [
    "df.count()"
   ]
  },
  {
   "cell_type": "code",
   "execution_count": 18,
   "id": "450acd2f",
   "metadata": {},
   "outputs": [],
   "source": [
    "# N = 1879794138\n",
    "N = 46998983"
   ]
  },
  {
   "cell_type": "markdown",
   "id": "84524365",
   "metadata": {},
   "source": [
    "## удалим пропуски по колонкам"
   ]
  },
  {
   "cell_type": "code",
   "execution_count": 19,
   "id": "b36c4532",
   "metadata": {},
   "outputs": [],
   "source": [
    "df2 = df.select(\n",
    "    [\n",
    "        count(\n",
    "            when(\n",
    "                (col(c) == '' ) |\n",
    "                col(c).isNull() |\n",
    "                isnan(c),\n",
    "                c\n",
    "            )\n",
    "        ).alias(c) \n",
    "        for c in df.columns\n",
    "    ]\n",
    ")"
   ]
  },
  {
   "cell_type": "code",
   "execution_count": 20,
   "id": "29fab358",
   "metadata": {},
   "outputs": [
    {
     "name": "stdout",
     "output_type": "stream",
     "text": [
      "+-------------+-----------+-----------+-----------+---------+---------------+------------+--------+-----------------+\n",
      "|tranaction_id|tx_datetime|customer_id|terminal_id|tx_amount|tx_time_seconds|tx_time_days|tx_fraud|tx_fraud_scenario|\n",
      "+-------------+-----------+-----------+-----------+---------+---------------+------------+--------+-----------------+\n",
      "|            0|          0|          0|       2298|        0|              0|           0|       0|                0|\n",
      "+-------------+-----------+-----------+-----------+---------+---------------+------------+--------+-----------------+\n",
      "\n"
     ]
    }
   ],
   "source": [
    "df2.show()"
   ]
  },
  {
   "cell_type": "code",
   "execution_count": 21,
   "id": "6304f4f9",
   "metadata": {},
   "outputs": [],
   "source": [
    "def remove_missing(df_):\n",
    "    start_size = df_.count()\n",
    "    df_ = df_.dropna(how=\"any\")\n",
    "    size = df_.count()\n",
    "    print(f\"Было удалено {start_size - size} элементов как пропусков\")\n",
    "    return df_"
   ]
  },
  {
   "cell_type": "markdown",
   "id": "9814041e",
   "metadata": {},
   "source": [
    "## удалим дубликаты"
   ]
  },
  {
   "cell_type": "code",
   "execution_count": 22,
   "id": "acd803b8",
   "metadata": {},
   "outputs": [
    {
     "name": "stdout",
     "output_type": "stream",
     "text": [
      "8\n"
     ]
    }
   ],
   "source": [
    "duplicate_rows = df.count() - df.dropDuplicates().count()\n",
    "print(duplicate_rows)"
   ]
  },
  {
   "cell_type": "code",
   "execution_count": 23,
   "id": "49593d87",
   "metadata": {},
   "outputs": [],
   "source": [
    "def remove_duplcates(df_):\n",
    "    start_size = df_.count()\n",
    "    df_ = df_.dropDuplicates()\n",
    "    size = df_.count()\n",
    "    print(f\"Было удалено {start_size - size} элементов как дубликатов\")\n",
    "    return df_"
   ]
  },
  {
   "cell_type": "markdown",
   "id": "cc89d725",
   "metadata": {},
   "source": [
    "## удалим выбросы"
   ]
  },
  {
   "cell_type": "code",
   "execution_count": 24,
   "id": "b2a4c4f8",
   "metadata": {},
   "outputs": [],
   "source": [
    "def remove_outliers(df_, col_name):\n",
    "    start_size = df_.count()\n",
    "    Q1 = df_.approxQuantile(col_name, [0.25], 0.05)[0]\n",
    "    Q3 = df_.approxQuantile(col_name, [0.75], 0.05)[0]\n",
    "    IQR = Q3 - Q1\n",
    "    ub = Q3 + 1.5 * IQR\n",
    "    df_ = df_.filter(F.col(col_name) <= ub)\n",
    "    size = df_.count()\n",
    "    print(f\"Для колонки {col_name} было удалено {start_size - size} элементов как выбросов\")\n",
    "    return df_"
   ]
  },
  {
   "cell_type": "markdown",
   "id": "ffffaaac",
   "metadata": {},
   "source": [
    "## проверка колонки tx_datetime на корректность формата"
   ]
  },
  {
   "cell_type": "code",
   "execution_count": 25,
   "id": "680be2ab",
   "metadata": {},
   "outputs": [],
   "source": [
    "def remove_incorrect_date(df_):\n",
    "    start_size = df_.count()\n",
    "    date_pattern = \"^\\d{4}-\\d{2}-\\d{2} \\d{2}:\\d{2}:\\d{2}$\"\n",
    "    df_ = df_.filter(F.col(\"tx_datetime\").rlike(date_pattern))\n",
    "    size = df_.count()\n",
    "    print(f\"Было удалено {start_size - size} с датой в неправильном формате\")\n",
    "    return df_"
   ]
  },
  {
   "cell_type": "markdown",
   "id": "a43b38b3",
   "metadata": {},
   "source": [
    "## очистим данные"
   ]
  },
  {
   "cell_type": "code",
   "execution_count": 26,
   "id": "34b70a88",
   "metadata": {},
   "outputs": [],
   "source": [
    "def cleanse_data(df_):\n",
    "    start_size = df_.count()\n",
    "    df_ = remove_duplcates(df_)\n",
    "    df_ = remove_incorrect_date(df_)\n",
    "    df_ = remove_missing(df_)\n",
    "    for col_name in [\"tx_amount\", \"terminal_id\", \"tx_time_seconds\", \"tx_time_days\"]:\n",
    "        df_ = remove_outliers(df_, col_name)\n",
    "    size = df_.count()\n",
    "    print(f\"После очистки из {start_size} строк осталось {size}\")\n",
    "    return df_"
   ]
  },
  {
   "cell_type": "code",
   "execution_count": 27,
   "id": "ef54e680",
   "metadata": {},
   "outputs": [
    {
     "name": "stdout",
     "output_type": "stream",
     "text": [
      "Было удалено 8 элементов как дубликатов\n",
      "Было удалено 0 с датой в неправильном формате\n",
      "Было удалено 2298 элементов как пропусков\n",
      "Для колонки tx_amount было удалено 1287248 элементов как выбросов\n",
      "Для колонки terminal_id было удалено 15859 элементов как выбросов\n",
      "Для колонки tx_time_seconds было удалено 0 элементов как выбросов\n",
      "Для колонки tx_time_days было удалено 0 элементов как выбросов\n",
      "После очистки из 46998983 строк осталось 45693570\n",
      "CPU times: user 123 ms, sys: 41.3 ms, total: 164 ms\n",
      "Wall time: 16min 41s\n"
     ]
    }
   ],
   "source": [
    "%%time\n",
    "df_cleansed = cleanse_data(df)"
   ]
  },
  {
   "cell_type": "code",
   "execution_count": 28,
   "id": "8151d893",
   "metadata": {},
   "outputs": [],
   "source": [
    "df_cleansed.write.parquet(\"/user/root/datasets/set01/data_cleansed.parquet\")"
   ]
  },
  {
   "cell_type": "code",
   "execution_count": 29,
   "id": "b5d10b2a",
   "metadata": {},
   "outputs": [],
   "source": [
    "df_cleansed.write.parquet(\"s3a://mlops-hw3-vos/data_cleansed.parquet\",mode=\"overwrite\")"
   ]
  },
  {
   "cell_type": "code",
   "execution_count": null,
   "id": "6d0ddb64",
   "metadata": {},
   "outputs": [],
   "source": []
  }
 ],
 "metadata": {
  "kernelspec": {
   "display_name": "Python 3",
   "language": "python",
   "name": "python3"
  },
  "language_info": {
   "codemirror_mode": {
    "name": "ipython",
    "version": 3
   },
   "file_extension": ".py",
   "mimetype": "text/x-python",
   "name": "python",
   "nbconvert_exporter": "python",
   "pygments_lexer": "ipython3",
   "version": "3.8.10"
  }
 },
 "nbformat": 4,
 "nbformat_minor": 5
}
