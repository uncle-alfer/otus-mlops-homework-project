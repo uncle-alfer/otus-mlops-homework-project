{
 "cells": [
  {
   "cell_type": "markdown",
   "metadata": {
    "id": "jzZ3iEYgMkeK"
   },
   "source": [
    "# Валидация моделей\n",
    "\n",
    "Рассмотри этапы валидации модели на примере задачи обнаружения вредоносных ссылок."
   ]
  },
  {
   "cell_type": "code",
   "execution_count": 1,
   "metadata": {},
   "outputs": [
    {
     "name": "stderr",
     "output_type": "stream",
     "text": [
      "IProgress not found. Please update jupyter and ipywidgets. See https://ipywidgets.readthedocs.io/en/stable/user_install.html\n"
     ]
    }
   ],
   "source": [
    "import pandas as pd\n",
    "import numpy as np\n",
    "from sklearn.metrics import precision_recall_fscore_support, f1_score, precision_score, recall_score, roc_auc_score\n",
    "from sklearn.model_selection import train_test_split, RandomizedSearchCV\n",
    "from sklearn.feature_extraction.text import CountVectorizer\n",
    "from sklearn.ensemble import RandomForestClassifier\n",
    "from sklearn.pipeline import Pipeline\n",
    "# from sklearn.preprocessing import FunctionTransformer\n",
    "# from sklearn.compose import make_column_transformer\n",
    "from sklearn import set_config\n",
    "set_config(display=\"diagram\")\n",
    "\n",
    "from scipy.stats  import norm, ttest_ind\n",
    "from scipy import stats\n",
    "\n",
    "# from xgboost import XGBClassifier\n",
    "\n",
    "import shap\n",
    "\n",
    "import warnings\n",
    "warnings.simplefilter(action='ignore', category=(FutureWarning, UserWarning))\n",
    "\n",
    "import matplotlib.pyplot as plt\n",
    "import seaborn as sns\n",
    "\n",
    "import boto3\n",
    "import os\n",
    "import awswrangler as wr\n",
    "import matplotlib.pyplot as plt"
   ]
  },
  {
   "cell_type": "code",
   "execution_count": 2,
   "metadata": {},
   "outputs": [],
   "source": [
    "data_file_name = \"data_cleansed_2024-02-14 22:20:20.926766.parquet\""
   ]
  },
  {
   "cell_type": "code",
   "execution_count": 3,
   "metadata": {},
   "outputs": [],
   "source": [
    "aws_key = os.environ['AWS_ACCESS_KEY']\n",
    "aws_secret = os.environ['AWS_SECRET_ACCESS_KEY']\n",
    "endpoint_url = os.environ['AWS_ENDPOINT_URL']\n",
    "bucket_name = 'mlops-hw3-vos'\n",
    "s3 = boto3.resource(\n",
    "    's3',\n",
    "    aws_access_key_id=aws_key,\n",
    "    aws_secret_access_key=aws_secret,\n",
    "    endpoint_url=endpoint_url,\n",
    ")\n",
    "bucket = s3.Bucket(bucket_name)\n",
    "data_file_name = \"data_cleansed_2024-02-14 22:20:20.926766.parquet\""
   ]
  },
  {
   "cell_type": "code",
   "execution_count": 4,
   "metadata": {},
   "outputs": [],
   "source": [
    "path_ = f\"s3://{bucket_name}/{data_file_name}\""
   ]
  },
  {
   "cell_type": "code",
   "execution_count": 5,
   "metadata": {},
   "outputs": [],
   "source": [
    "df = pd.read_parquet(path_)"
   ]
  },
  {
   "cell_type": "code",
   "execution_count": 6,
   "metadata": {},
   "outputs": [
    {
     "data": {
      "text/html": [
       "<div>\n",
       "<style scoped>\n",
       "    .dataframe tbody tr th:only-of-type {\n",
       "        vertical-align: middle;\n",
       "    }\n",
       "\n",
       "    .dataframe tbody tr th {\n",
       "        vertical-align: top;\n",
       "    }\n",
       "\n",
       "    .dataframe thead th {\n",
       "        text-align: right;\n",
       "    }\n",
       "</style>\n",
       "<table border=\"1\" class=\"dataframe\">\n",
       "  <thead>\n",
       "    <tr style=\"text-align: right;\">\n",
       "      <th></th>\n",
       "      <th>tranaction_id</th>\n",
       "      <th>tx_datetime</th>\n",
       "      <th>customer_id</th>\n",
       "      <th>terminal_id</th>\n",
       "      <th>tx_amount</th>\n",
       "      <th>tx_time_seconds</th>\n",
       "      <th>tx_time_days</th>\n",
       "      <th>tx_fraud</th>\n",
       "      <th>tx_fraud_scenario</th>\n",
       "    </tr>\n",
       "  </thead>\n",
       "  <tbody>\n",
       "    <tr>\n",
       "      <th>0</th>\n",
       "      <td>1832792695</td>\n",
       "      <td>2022-11-04 15:12:51</td>\n",
       "      <td>58</td>\n",
       "      <td>190</td>\n",
       "      <td>13.42</td>\n",
       "      <td>101142771</td>\n",
       "      <td>1170</td>\n",
       "      <td>0</td>\n",
       "      <td>0</td>\n",
       "    </tr>\n",
       "    <tr>\n",
       "      <th>1</th>\n",
       "      <td>1832793055</td>\n",
       "      <td>2022-11-04 16:21:39</td>\n",
       "      <td>289</td>\n",
       "      <td>568</td>\n",
       "      <td>71.22</td>\n",
       "      <td>101146899</td>\n",
       "      <td>1170</td>\n",
       "      <td>0</td>\n",
       "      <td>0</td>\n",
       "    </tr>\n",
       "    <tr>\n",
       "      <th>2</th>\n",
       "      <td>1832793162</td>\n",
       "      <td>2022-11-04 13:01:13</td>\n",
       "      <td>356</td>\n",
       "      <td>996</td>\n",
       "      <td>77.00</td>\n",
       "      <td>101134873</td>\n",
       "      <td>1170</td>\n",
       "      <td>0</td>\n",
       "      <td>0</td>\n",
       "    </tr>\n",
       "    <tr>\n",
       "      <th>3</th>\n",
       "      <td>1832793237</td>\n",
       "      <td>2022-11-04 13:48:53</td>\n",
       "      <td>395</td>\n",
       "      <td>556</td>\n",
       "      <td>12.11</td>\n",
       "      <td>101137733</td>\n",
       "      <td>1170</td>\n",
       "      <td>0</td>\n",
       "      <td>0</td>\n",
       "    </tr>\n",
       "    <tr>\n",
       "      <th>4</th>\n",
       "      <td>1832793343</td>\n",
       "      <td>2022-11-04 22:14:53</td>\n",
       "      <td>463</td>\n",
       "      <td>324</td>\n",
       "      <td>1.47</td>\n",
       "      <td>101168093</td>\n",
       "      <td>1170</td>\n",
       "      <td>0</td>\n",
       "      <td>0</td>\n",
       "    </tr>\n",
       "  </tbody>\n",
       "</table>\n",
       "</div>"
      ],
      "text/plain": [
       "   tranaction_id          tx_datetime  customer_id  terminal_id  tx_amount  \\\n",
       "0     1832792695  2022-11-04 15:12:51           58          190      13.42   \n",
       "1     1832793055  2022-11-04 16:21:39          289          568      71.22   \n",
       "2     1832793162  2022-11-04 13:01:13          356          996      77.00   \n",
       "3     1832793237  2022-11-04 13:48:53          395          556      12.11   \n",
       "4     1832793343  2022-11-04 22:14:53          463          324       1.47   \n",
       "\n",
       "   tx_time_seconds  tx_time_days  tx_fraud  tx_fraud_scenario  \n",
       "0        101142771          1170         0                  0  \n",
       "1        101146899          1170         0                  0  \n",
       "2        101134873          1170         0                  0  \n",
       "3        101137733          1170         0                  0  \n",
       "4        101168093          1170         0                  0  "
      ]
     },
     "execution_count": 6,
     "metadata": {},
     "output_type": "execute_result"
    }
   ],
   "source": [
    "df.head(5)"
   ]
  },
  {
   "cell_type": "code",
   "execution_count": 13,
   "metadata": {},
   "outputs": [
    {
     "data": {
      "text/plain": [
       "tx_fraud\n",
       "0    44385601\n",
       "1     1310572\n",
       "Name: count, dtype: int64"
      ]
     },
     "execution_count": 13,
     "metadata": {},
     "output_type": "execute_result"
    }
   ],
   "source": [
    "df['tx_fraud'].value_counts()"
   ]
  },
  {
   "cell_type": "code",
   "execution_count": 9,
   "metadata": {
    "colab": {
     "base_uri": "https://localhost:8080/"
    },
    "executionInfo": {
     "elapsed": 19,
     "status": "ok",
     "timestamp": 1685980303121,
     "user": {
      "displayName": "Roman Matantsev",
      "userId": "11743612355519136441"
     },
     "user_tz": -420
    },
    "id": "RHB4MmxFMkeQ",
    "outputId": "145fdc9b-0ca3-4f1c-9ed7-b83ad9280409"
   },
   "outputs": [
    {
     "data": {
      "text/plain": [
       "45696173"
      ]
     },
     "execution_count": 9,
     "metadata": {},
     "output_type": "execute_result"
    }
   ],
   "source": [
    "len(df)"
   ]
  },
  {
   "cell_type": "code",
   "execution_count": 10,
   "metadata": {
    "id": "g87BlQ5QMkeR"
   },
   "outputs": [],
   "source": [
    "df_sample = df.sample(frac=0.1, random_state=1)"
   ]
  },
  {
   "cell_type": "code",
   "execution_count": 12,
   "metadata": {},
   "outputs": [
    {
     "data": {
      "text/html": [
       "<div>\n",
       "<style scoped>\n",
       "    .dataframe tbody tr th:only-of-type {\n",
       "        vertical-align: middle;\n",
       "    }\n",
       "\n",
       "    .dataframe tbody tr th {\n",
       "        vertical-align: top;\n",
       "    }\n",
       "\n",
       "    .dataframe thead th {\n",
       "        text-align: right;\n",
       "    }\n",
       "</style>\n",
       "<table border=\"1\" class=\"dataframe\">\n",
       "  <thead>\n",
       "    <tr style=\"text-align: right;\">\n",
       "      <th></th>\n",
       "      <th>tranaction_id</th>\n",
       "      <th>tx_datetime</th>\n",
       "      <th>customer_id</th>\n",
       "      <th>terminal_id</th>\n",
       "      <th>tx_amount</th>\n",
       "      <th>tx_time_seconds</th>\n",
       "      <th>tx_time_days</th>\n",
       "      <th>tx_fraud</th>\n",
       "      <th>tx_fraud_scenario</th>\n",
       "    </tr>\n",
       "  </thead>\n",
       "  <tbody>\n",
       "    <tr>\n",
       "      <th>22863752</th>\n",
       "      <td>1838728250</td>\n",
       "      <td>2022-11-07 16:37:06</td>\n",
       "      <td>788311</td>\n",
       "      <td>243</td>\n",
       "      <td>27.42</td>\n",
       "      <td>101407026</td>\n",
       "      <td>1173</td>\n",
       "      <td>0</td>\n",
       "      <td>0</td>\n",
       "    </tr>\n",
       "    <tr>\n",
       "      <th>25522467</th>\n",
       "      <td>1854417744</td>\n",
       "      <td>2022-11-17 11:11:30</td>\n",
       "      <td>804178</td>\n",
       "      <td>657</td>\n",
       "      <td>63.34</td>\n",
       "      <td>102251490</td>\n",
       "      <td>1183</td>\n",
       "      <td>0</td>\n",
       "      <td>0</td>\n",
       "    </tr>\n",
       "    <tr>\n",
       "      <th>20305672</th>\n",
       "      <td>1867522623</td>\n",
       "      <td>2022-11-26 11:16:48</td>\n",
       "      <td>169685</td>\n",
       "      <td>973</td>\n",
       "      <td>32.70</td>\n",
       "      <td>103029408</td>\n",
       "      <td>1192</td>\n",
       "      <td>0</td>\n",
       "      <td>0</td>\n",
       "    </tr>\n",
       "    <tr>\n",
       "      <th>14187732</th>\n",
       "      <td>1845992984</td>\n",
       "      <td>2022-11-12 09:01:53</td>\n",
       "      <td>426326</td>\n",
       "      <td>224</td>\n",
       "      <td>31.63</td>\n",
       "      <td>101811713</td>\n",
       "      <td>1178</td>\n",
       "      <td>0</td>\n",
       "      <td>0</td>\n",
       "    </tr>\n",
       "  </tbody>\n",
       "</table>\n",
       "</div>"
      ],
      "text/plain": [
       "          tranaction_id          tx_datetime  customer_id  terminal_id  \\\n",
       "22863752     1838728250  2022-11-07 16:37:06       788311          243   \n",
       "25522467     1854417744  2022-11-17 11:11:30       804178          657   \n",
       "20305672     1867522623  2022-11-26 11:16:48       169685          973   \n",
       "14187732     1845992984  2022-11-12 09:01:53       426326          224   \n",
       "\n",
       "          tx_amount  tx_time_seconds  tx_time_days  tx_fraud  \\\n",
       "22863752      27.42        101407026          1173         0   \n",
       "25522467      63.34        102251490          1183         0   \n",
       "20305672      32.70        103029408          1192         0   \n",
       "14187732      31.63        101811713          1178         0   \n",
       "\n",
       "          tx_fraud_scenario  \n",
       "22863752                  0  \n",
       "25522467                  0  \n",
       "20305672                  0  \n",
       "14187732                  0  "
      ]
     },
     "execution_count": 12,
     "metadata": {},
     "output_type": "execute_result"
    }
   ],
   "source": [
    "df_sample.head(4)"
   ]
  },
  {
   "cell_type": "code",
   "execution_count": 14,
   "metadata": {
    "id": "zcAZt-vUMkeR"
   },
   "outputs": [],
   "source": [
    "feature_cols = [\"terminal_id\", \"tx_amount\", \"tx_time_seconds\", \"tx_time_days\"]\n",
    "target_col = \"tx_fraud\"\n",
    "\n",
    "X = df_sample[feature_cols]\n",
    "y = df_sample[target_col].values\n",
    "\n",
    "X_train, X_test, y_train, y_test = train_test_split(X, y, test_size=0.3, random_state=42)"
   ]
  },
  {
   "cell_type": "code",
   "execution_count": 15,
   "metadata": {
    "colab": {
     "base_uri": "https://localhost:8080/",
     "height": 158
    },
    "executionInfo": {
     "elapsed": 12,
     "status": "ok",
     "timestamp": 1685980304549,
     "user": {
      "displayName": "Roman Matantsev",
      "userId": "11743612355519136441"
     },
     "user_tz": -420
    },
    "id": "WWieQBXPMkeS",
    "outputId": "55c11221-8aa2-41ad-ba6d-3a3bd854193f"
   },
   "outputs": [
    {
     "data": {
      "text/html": [
       "<style>#sk-container-id-1 {\n",
       "  /* Definition of color scheme common for light and dark mode */\n",
       "  --sklearn-color-text: black;\n",
       "  --sklearn-color-line: gray;\n",
       "  /* Definition of color scheme for unfitted estimators */\n",
       "  --sklearn-color-unfitted-level-0: #fff5e6;\n",
       "  --sklearn-color-unfitted-level-1: #f6e4d2;\n",
       "  --sklearn-color-unfitted-level-2: #ffe0b3;\n",
       "  --sklearn-color-unfitted-level-3: chocolate;\n",
       "  /* Definition of color scheme for fitted estimators */\n",
       "  --sklearn-color-fitted-level-0: #f0f8ff;\n",
       "  --sklearn-color-fitted-level-1: #d4ebff;\n",
       "  --sklearn-color-fitted-level-2: #b3dbfd;\n",
       "  --sklearn-color-fitted-level-3: cornflowerblue;\n",
       "\n",
       "  /* Specific color for light theme */\n",
       "  --sklearn-color-text-on-default-background: var(--sg-text-color, var(--theme-code-foreground, var(--jp-content-font-color1, black)));\n",
       "  --sklearn-color-background: var(--sg-background-color, var(--theme-background, var(--jp-layout-color0, white)));\n",
       "  --sklearn-color-border-box: var(--sg-text-color, var(--theme-code-foreground, var(--jp-content-font-color1, black)));\n",
       "  --sklearn-color-icon: #696969;\n",
       "\n",
       "  @media (prefers-color-scheme: dark) {\n",
       "    /* Redefinition of color scheme for dark theme */\n",
       "    --sklearn-color-text-on-default-background: var(--sg-text-color, var(--theme-code-foreground, var(--jp-content-font-color1, white)));\n",
       "    --sklearn-color-background: var(--sg-background-color, var(--theme-background, var(--jp-layout-color0, #111)));\n",
       "    --sklearn-color-border-box: var(--sg-text-color, var(--theme-code-foreground, var(--jp-content-font-color1, white)));\n",
       "    --sklearn-color-icon: #878787;\n",
       "  }\n",
       "}\n",
       "\n",
       "#sk-container-id-1 {\n",
       "  color: var(--sklearn-color-text);\n",
       "}\n",
       "\n",
       "#sk-container-id-1 pre {\n",
       "  padding: 0;\n",
       "}\n",
       "\n",
       "#sk-container-id-1 input.sk-hidden--visually {\n",
       "  border: 0;\n",
       "  clip: rect(1px 1px 1px 1px);\n",
       "  clip: rect(1px, 1px, 1px, 1px);\n",
       "  height: 1px;\n",
       "  margin: -1px;\n",
       "  overflow: hidden;\n",
       "  padding: 0;\n",
       "  position: absolute;\n",
       "  width: 1px;\n",
       "}\n",
       "\n",
       "#sk-container-id-1 div.sk-dashed-wrapped {\n",
       "  border: 1px dashed var(--sklearn-color-line);\n",
       "  margin: 0 0.4em 0.5em 0.4em;\n",
       "  box-sizing: border-box;\n",
       "  padding-bottom: 0.4em;\n",
       "  background-color: var(--sklearn-color-background);\n",
       "}\n",
       "\n",
       "#sk-container-id-1 div.sk-container {\n",
       "  /* jupyter's `normalize.less` sets `[hidden] { display: none; }`\n",
       "     but bootstrap.min.css set `[hidden] { display: none !important; }`\n",
       "     so we also need the `!important` here to be able to override the\n",
       "     default hidden behavior on the sphinx rendered scikit-learn.org.\n",
       "     See: https://github.com/scikit-learn/scikit-learn/issues/21755 */\n",
       "  display: inline-block !important;\n",
       "  position: relative;\n",
       "}\n",
       "\n",
       "#sk-container-id-1 div.sk-text-repr-fallback {\n",
       "  display: none;\n",
       "}\n",
       "\n",
       "div.sk-parallel-item,\n",
       "div.sk-serial,\n",
       "div.sk-item {\n",
       "  /* draw centered vertical line to link estimators */\n",
       "  background-image: linear-gradient(var(--sklearn-color-text-on-default-background), var(--sklearn-color-text-on-default-background));\n",
       "  background-size: 2px 100%;\n",
       "  background-repeat: no-repeat;\n",
       "  background-position: center center;\n",
       "}\n",
       "\n",
       "/* Parallel-specific style estimator block */\n",
       "\n",
       "#sk-container-id-1 div.sk-parallel-item::after {\n",
       "  content: \"\";\n",
       "  width: 100%;\n",
       "  border-bottom: 2px solid var(--sklearn-color-text-on-default-background);\n",
       "  flex-grow: 1;\n",
       "}\n",
       "\n",
       "#sk-container-id-1 div.sk-parallel {\n",
       "  display: flex;\n",
       "  align-items: stretch;\n",
       "  justify-content: center;\n",
       "  background-color: var(--sklearn-color-background);\n",
       "  position: relative;\n",
       "}\n",
       "\n",
       "#sk-container-id-1 div.sk-parallel-item {\n",
       "  display: flex;\n",
       "  flex-direction: column;\n",
       "}\n",
       "\n",
       "#sk-container-id-1 div.sk-parallel-item:first-child::after {\n",
       "  align-self: flex-end;\n",
       "  width: 50%;\n",
       "}\n",
       "\n",
       "#sk-container-id-1 div.sk-parallel-item:last-child::after {\n",
       "  align-self: flex-start;\n",
       "  width: 50%;\n",
       "}\n",
       "\n",
       "#sk-container-id-1 div.sk-parallel-item:only-child::after {\n",
       "  width: 0;\n",
       "}\n",
       "\n",
       "/* Serial-specific style estimator block */\n",
       "\n",
       "#sk-container-id-1 div.sk-serial {\n",
       "  display: flex;\n",
       "  flex-direction: column;\n",
       "  align-items: center;\n",
       "  background-color: var(--sklearn-color-background);\n",
       "  padding-right: 1em;\n",
       "  padding-left: 1em;\n",
       "}\n",
       "\n",
       "\n",
       "/* Toggleable style: style used for estimator/Pipeline/ColumnTransformer box that is\n",
       "clickable and can be expanded/collapsed.\n",
       "- Pipeline and ColumnTransformer use this feature and define the default style\n",
       "- Estimators will overwrite some part of the style using the `sk-estimator` class\n",
       "*/\n",
       "\n",
       "/* Pipeline and ColumnTransformer style (default) */\n",
       "\n",
       "#sk-container-id-1 div.sk-toggleable {\n",
       "  /* Default theme specific background. It is overwritten whether we have a\n",
       "  specific estimator or a Pipeline/ColumnTransformer */\n",
       "  background-color: var(--sklearn-color-background);\n",
       "}\n",
       "\n",
       "/* Toggleable label */\n",
       "#sk-container-id-1 label.sk-toggleable__label {\n",
       "  cursor: pointer;\n",
       "  display: block;\n",
       "  width: 100%;\n",
       "  margin-bottom: 0;\n",
       "  padding: 0.5em;\n",
       "  box-sizing: border-box;\n",
       "  text-align: center;\n",
       "}\n",
       "\n",
       "#sk-container-id-1 label.sk-toggleable__label-arrow:before {\n",
       "  /* Arrow on the left of the label */\n",
       "  content: \"▸\";\n",
       "  float: left;\n",
       "  margin-right: 0.25em;\n",
       "  color: var(--sklearn-color-icon);\n",
       "}\n",
       "\n",
       "#sk-container-id-1 label.sk-toggleable__label-arrow:hover:before {\n",
       "  color: var(--sklearn-color-text);\n",
       "}\n",
       "\n",
       "/* Toggleable content - dropdown */\n",
       "\n",
       "#sk-container-id-1 div.sk-toggleable__content {\n",
       "  max-height: 0;\n",
       "  max-width: 0;\n",
       "  overflow: hidden;\n",
       "  text-align: left;\n",
       "  /* unfitted */\n",
       "  background-color: var(--sklearn-color-unfitted-level-0);\n",
       "}\n",
       "\n",
       "#sk-container-id-1 div.sk-toggleable__content.fitted {\n",
       "  /* fitted */\n",
       "  background-color: var(--sklearn-color-fitted-level-0);\n",
       "}\n",
       "\n",
       "#sk-container-id-1 div.sk-toggleable__content pre {\n",
       "  margin: 0.2em;\n",
       "  border-radius: 0.25em;\n",
       "  color: var(--sklearn-color-text);\n",
       "  /* unfitted */\n",
       "  background-color: var(--sklearn-color-unfitted-level-0);\n",
       "}\n",
       "\n",
       "#sk-container-id-1 div.sk-toggleable__content.fitted pre {\n",
       "  /* unfitted */\n",
       "  background-color: var(--sklearn-color-fitted-level-0);\n",
       "}\n",
       "\n",
       "#sk-container-id-1 input.sk-toggleable__control:checked~div.sk-toggleable__content {\n",
       "  /* Expand drop-down */\n",
       "  max-height: 200px;\n",
       "  max-width: 100%;\n",
       "  overflow: auto;\n",
       "}\n",
       "\n",
       "#sk-container-id-1 input.sk-toggleable__control:checked~label.sk-toggleable__label-arrow:before {\n",
       "  content: \"▾\";\n",
       "}\n",
       "\n",
       "/* Pipeline/ColumnTransformer-specific style */\n",
       "\n",
       "#sk-container-id-1 div.sk-label input.sk-toggleable__control:checked~label.sk-toggleable__label {\n",
       "  color: var(--sklearn-color-text);\n",
       "  background-color: var(--sklearn-color-unfitted-level-2);\n",
       "}\n",
       "\n",
       "#sk-container-id-1 div.sk-label.fitted input.sk-toggleable__control:checked~label.sk-toggleable__label {\n",
       "  background-color: var(--sklearn-color-fitted-level-2);\n",
       "}\n",
       "\n",
       "/* Estimator-specific style */\n",
       "\n",
       "/* Colorize estimator box */\n",
       "#sk-container-id-1 div.sk-estimator input.sk-toggleable__control:checked~label.sk-toggleable__label {\n",
       "  /* unfitted */\n",
       "  background-color: var(--sklearn-color-unfitted-level-2);\n",
       "}\n",
       "\n",
       "#sk-container-id-1 div.sk-estimator.fitted input.sk-toggleable__control:checked~label.sk-toggleable__label {\n",
       "  /* fitted */\n",
       "  background-color: var(--sklearn-color-fitted-level-2);\n",
       "}\n",
       "\n",
       "#sk-container-id-1 div.sk-label label.sk-toggleable__label,\n",
       "#sk-container-id-1 div.sk-label label {\n",
       "  /* The background is the default theme color */\n",
       "  color: var(--sklearn-color-text-on-default-background);\n",
       "}\n",
       "\n",
       "/* On hover, darken the color of the background */\n",
       "#sk-container-id-1 div.sk-label:hover label.sk-toggleable__label {\n",
       "  color: var(--sklearn-color-text);\n",
       "  background-color: var(--sklearn-color-unfitted-level-2);\n",
       "}\n",
       "\n",
       "/* Label box, darken color on hover, fitted */\n",
       "#sk-container-id-1 div.sk-label.fitted:hover label.sk-toggleable__label.fitted {\n",
       "  color: var(--sklearn-color-text);\n",
       "  background-color: var(--sklearn-color-fitted-level-2);\n",
       "}\n",
       "\n",
       "/* Estimator label */\n",
       "\n",
       "#sk-container-id-1 div.sk-label label {\n",
       "  font-family: monospace;\n",
       "  font-weight: bold;\n",
       "  display: inline-block;\n",
       "  line-height: 1.2em;\n",
       "}\n",
       "\n",
       "#sk-container-id-1 div.sk-label-container {\n",
       "  text-align: center;\n",
       "}\n",
       "\n",
       "/* Estimator-specific */\n",
       "#sk-container-id-1 div.sk-estimator {\n",
       "  font-family: monospace;\n",
       "  border: 1px dotted var(--sklearn-color-border-box);\n",
       "  border-radius: 0.25em;\n",
       "  box-sizing: border-box;\n",
       "  margin-bottom: 0.5em;\n",
       "  /* unfitted */\n",
       "  background-color: var(--sklearn-color-unfitted-level-0);\n",
       "}\n",
       "\n",
       "#sk-container-id-1 div.sk-estimator.fitted {\n",
       "  /* fitted */\n",
       "  background-color: var(--sklearn-color-fitted-level-0);\n",
       "}\n",
       "\n",
       "/* on hover */\n",
       "#sk-container-id-1 div.sk-estimator:hover {\n",
       "  /* unfitted */\n",
       "  background-color: var(--sklearn-color-unfitted-level-2);\n",
       "}\n",
       "\n",
       "#sk-container-id-1 div.sk-estimator.fitted:hover {\n",
       "  /* fitted */\n",
       "  background-color: var(--sklearn-color-fitted-level-2);\n",
       "}\n",
       "\n",
       "/* Specification for estimator info (e.g. \"i\" and \"?\") */\n",
       "\n",
       "/* Common style for \"i\" and \"?\" */\n",
       "\n",
       ".sk-estimator-doc-link,\n",
       "a:link.sk-estimator-doc-link,\n",
       "a:visited.sk-estimator-doc-link {\n",
       "  float: right;\n",
       "  font-size: smaller;\n",
       "  line-height: 1em;\n",
       "  font-family: monospace;\n",
       "  background-color: var(--sklearn-color-background);\n",
       "  border-radius: 1em;\n",
       "  height: 1em;\n",
       "  width: 1em;\n",
       "  text-decoration: none !important;\n",
       "  margin-left: 1ex;\n",
       "  /* unfitted */\n",
       "  border: var(--sklearn-color-unfitted-level-1) 1pt solid;\n",
       "  color: var(--sklearn-color-unfitted-level-1);\n",
       "}\n",
       "\n",
       ".sk-estimator-doc-link.fitted,\n",
       "a:link.sk-estimator-doc-link.fitted,\n",
       "a:visited.sk-estimator-doc-link.fitted {\n",
       "  /* fitted */\n",
       "  border: var(--sklearn-color-fitted-level-1) 1pt solid;\n",
       "  color: var(--sklearn-color-fitted-level-1);\n",
       "}\n",
       "\n",
       "/* On hover */\n",
       "div.sk-estimator:hover .sk-estimator-doc-link:hover,\n",
       ".sk-estimator-doc-link:hover,\n",
       "div.sk-label-container:hover .sk-estimator-doc-link:hover,\n",
       ".sk-estimator-doc-link:hover {\n",
       "  /* unfitted */\n",
       "  background-color: var(--sklearn-color-unfitted-level-3);\n",
       "  color: var(--sklearn-color-background);\n",
       "  text-decoration: none;\n",
       "}\n",
       "\n",
       "div.sk-estimator.fitted:hover .sk-estimator-doc-link.fitted:hover,\n",
       ".sk-estimator-doc-link.fitted:hover,\n",
       "div.sk-label-container:hover .sk-estimator-doc-link.fitted:hover,\n",
       ".sk-estimator-doc-link.fitted:hover {\n",
       "  /* fitted */\n",
       "  background-color: var(--sklearn-color-fitted-level-3);\n",
       "  color: var(--sklearn-color-background);\n",
       "  text-decoration: none;\n",
       "}\n",
       "\n",
       "/* Span, style for the box shown on hovering the info icon */\n",
       ".sk-estimator-doc-link span {\n",
       "  display: none;\n",
       "  z-index: 9999;\n",
       "  position: relative;\n",
       "  font-weight: normal;\n",
       "  right: .2ex;\n",
       "  padding: .5ex;\n",
       "  margin: .5ex;\n",
       "  width: min-content;\n",
       "  min-width: 20ex;\n",
       "  max-width: 50ex;\n",
       "  color: var(--sklearn-color-text);\n",
       "  box-shadow: 2pt 2pt 4pt #999;\n",
       "  /* unfitted */\n",
       "  background: var(--sklearn-color-unfitted-level-0);\n",
       "  border: .5pt solid var(--sklearn-color-unfitted-level-3);\n",
       "}\n",
       "\n",
       ".sk-estimator-doc-link.fitted span {\n",
       "  /* fitted */\n",
       "  background: var(--sklearn-color-fitted-level-0);\n",
       "  border: var(--sklearn-color-fitted-level-3);\n",
       "}\n",
       "\n",
       ".sk-estimator-doc-link:hover span {\n",
       "  display: block;\n",
       "}\n",
       "\n",
       "/* \"?\"-specific style due to the `<a>` HTML tag */\n",
       "\n",
       "#sk-container-id-1 a.estimator_doc_link {\n",
       "  float: right;\n",
       "  font-size: 1rem;\n",
       "  line-height: 1em;\n",
       "  font-family: monospace;\n",
       "  background-color: var(--sklearn-color-background);\n",
       "  border-radius: 1rem;\n",
       "  height: 1rem;\n",
       "  width: 1rem;\n",
       "  text-decoration: none;\n",
       "  /* unfitted */\n",
       "  color: var(--sklearn-color-unfitted-level-1);\n",
       "  border: var(--sklearn-color-unfitted-level-1) 1pt solid;\n",
       "}\n",
       "\n",
       "#sk-container-id-1 a.estimator_doc_link.fitted {\n",
       "  /* fitted */\n",
       "  border: var(--sklearn-color-fitted-level-1) 1pt solid;\n",
       "  color: var(--sklearn-color-fitted-level-1);\n",
       "}\n",
       "\n",
       "/* On hover */\n",
       "#sk-container-id-1 a.estimator_doc_link:hover {\n",
       "  /* unfitted */\n",
       "  background-color: var(--sklearn-color-unfitted-level-3);\n",
       "  color: var(--sklearn-color-background);\n",
       "  text-decoration: none;\n",
       "}\n",
       "\n",
       "#sk-container-id-1 a.estimator_doc_link.fitted:hover {\n",
       "  /* fitted */\n",
       "  background-color: var(--sklearn-color-fitted-level-3);\n",
       "}\n",
       "</style><div id=\"sk-container-id-1\" class=\"sk-top-container\"><div class=\"sk-text-repr-fallback\"><pre>Pipeline(steps=[(&#x27;classifier&#x27;,\n",
       "                 RandomForestClassifier(max_depth=9, n_estimators=35, n_jobs=1,\n",
       "                                        random_state=42))])</pre><b>In a Jupyter environment, please rerun this cell to show the HTML representation or trust the notebook. <br />On GitHub, the HTML representation is unable to render, please try loading this page with nbviewer.org.</b></div><div class=\"sk-container\" hidden><div class=\"sk-item sk-dashed-wrapped\"><div class=\"sk-label-container\"><div class=\"sk-label  sk-toggleable\"><input class=\"sk-toggleable__control sk-hidden--visually\" id=\"sk-estimator-id-1\" type=\"checkbox\" ><label for=\"sk-estimator-id-1\" class=\"sk-toggleable__label  sk-toggleable__label-arrow \">&nbsp;&nbsp;Pipeline<a class=\"sk-estimator-doc-link \" rel=\"noreferrer\" target=\"_blank\" href=\"https://scikit-learn.org/1.4/modules/generated/sklearn.pipeline.Pipeline.html\">?<span>Documentation for Pipeline</span></a><span class=\"sk-estimator-doc-link \">i<span>Not fitted</span></span></label><div class=\"sk-toggleable__content \"><pre>Pipeline(steps=[(&#x27;classifier&#x27;,\n",
       "                 RandomForestClassifier(max_depth=9, n_estimators=35, n_jobs=1,\n",
       "                                        random_state=42))])</pre></div> </div></div><div class=\"sk-serial\"><div class=\"sk-item\"><div class=\"sk-estimator  sk-toggleable\"><input class=\"sk-toggleable__control sk-hidden--visually\" id=\"sk-estimator-id-2\" type=\"checkbox\" ><label for=\"sk-estimator-id-2\" class=\"sk-toggleable__label  sk-toggleable__label-arrow \">&nbsp;RandomForestClassifier<a class=\"sk-estimator-doc-link \" rel=\"noreferrer\" target=\"_blank\" href=\"https://scikit-learn.org/1.4/modules/generated/sklearn.ensemble.RandomForestClassifier.html\">?<span>Documentation for RandomForestClassifier</span></a></label><div class=\"sk-toggleable__content \"><pre>RandomForestClassifier(max_depth=9, n_estimators=35, n_jobs=1, random_state=42)</pre></div> </div></div></div></div></div></div>"
      ],
      "text/plain": [
       "Pipeline(steps=[('classifier',\n",
       "                 RandomForestClassifier(max_depth=9, n_estimators=35, n_jobs=1,\n",
       "                                        random_state=42))])"
      ]
     },
     "execution_count": 15,
     "metadata": {},
     "output_type": "execute_result"
    }
   ],
   "source": [
    "rf_clf = RandomForestClassifier(\n",
    "    n_estimators=35,\n",
    "    max_depth=9,\n",
    "    random_state=42,\n",
    "    n_jobs=1,\n",
    ")\n",
    "\n",
    "pipe = Pipeline(steps=[\n",
    "    (\"classifier\", rf_clf),\n",
    "])\n",
    "pipe"
   ]
  },
  {
   "cell_type": "code",
   "execution_count": 16,
   "metadata": {
    "colab": {
     "base_uri": "https://localhost:8080/"
    },
    "executionInfo": {
     "elapsed": 1888,
     "status": "ok",
     "timestamp": 1685980500075,
     "user": {
      "displayName": "Roman Matantsev",
      "userId": "11743612355519136441"
     },
     "user_tz": -420
    },
    "id": "3waNoHU0MkeT",
    "outputId": "0f7674f9-e2dd-46ea-a09f-9ff790ff3f1f"
   },
   "outputs": [
    {
     "name": "stdout",
     "output_type": "stream",
     "text": [
      "P: 1.00, R: 0.18, F1: 0.31155, AUC: 0.59226\n"
     ]
    }
   ],
   "source": [
    "from sklearn.metrics import roc_auc_score\n",
    "pipe.fit(X_train, y_train);\n",
    "y_pred = pipe.predict(X_test)\n",
    "\n",
    "P, R, F1, _ = precision_recall_fscore_support(y_test, y_pred, average=\"binary\")\n",
    "roc_auc = roc_auc_score(y_test, y_pred)\n",
    "print(f\"P: {P:.2f}, R: {R:.2f}, F1: {F1:.5f}, AUC: {roc_auc:.5f}\")"
   ]
  },
  {
   "cell_type": "markdown",
   "metadata": {
    "id": "UFkqIC6qMkeU"
   },
   "source": [
    "## Упражнение 1\n",
    "\n",
    "С помощью bootstrap постройте гистограмму распределения оценки $F_1$ на контрольной выборке.\n",
    "\n",
    "Постройте теоретическое нормальное распределение на этой гистограмме.\n",
    "\n",
    "Покажите среднее значение и стандартное отклонение."
   ]
  },
  {
   "cell_type": "code",
   "execution_count": 17,
   "metadata": {
    "id": "j-ZdO9JTMkeU"
   },
   "outputs": [
    {
     "data": {
      "image/png": "[encoded data removed]",
      "text/plain": [
       "<Figure size 640x480 with 1 Axes>"
      ]
     },
     "metadata": {},
     "output_type": "display_data"
    }
   ],
   "source": [
    "from sklearn.metrics import roc_auc_score\n",
    "np.random.seed(42)\n",
    "\n",
    "bootstrap_iterations = 100\n",
    "\n",
    "df1 = pd.DataFrame(data={\n",
    "    \"y_test\": y_test,\n",
    "    \"y_pred\": y_pred,\n",
    "})\n",
    "\n",
    "scores = pd.DataFrame(data={\n",
    "    \"F1\": 0.0, \"P\": 0.0, \"R\": 0.0, \"AUC\": 0.0\n",
    "}, index=range(bootstrap_iterations))\n",
    "\n",
    "for i in range(bootstrap_iterations):\n",
    "    sample = df1.sample(frac=1.0, replace=True)\n",
    "    scores.loc[i, \"F1\"] = f1_score(sample[\"y_test\"], sample[\"y_pred\"])\n",
    "    scores.loc[i, \"P\"] = precision_score(sample[\"y_test\"], sample[\"y_pred\"])\n",
    "    scores.loc[i, \"R\"] = recall_score(sample[\"y_test\"], sample[\"y_pred\"])\n",
    "    scores.loc[i, \"AUC\"] = roc_auc_score(sample[\"y_test\"], sample[\"y_pred\"])\n",
    "\n",
    "ax = sns.histplot(\n",
    "    x=scores[\"F1\"] \n",
    ")\n",
    "\n",
    "ax.axvline(x=F1, color=\"red\", linestyle=\"dashed\", linewidth=2);"
   ]
  },
  {
   "cell_type": "code",
   "execution_count": 1,
   "metadata": {
    "colab": {
     "base_uri": "https://localhost:8080/",
     "height": 466
    },
    "executionInfo": {
     "elapsed": 961,
     "status": "ok",
     "timestamp": 1685980508527,
     "user": {
      "displayName": "Roman Matantsev",
      "userId": "11743612355519136441"
     },
     "user_tz": -420
    },
    "id": "vQvxHONpMkeU",
    "outputId": "78a83bae-675c-468a-a822-14b9392dbc0a"
   },
   "outputs": [
    {
     "ename": "NameError",
     "evalue": "name 'scores' is not defined",
     "output_type": "error",
     "traceback": [
      "\u001b[0;31m---------------------------------------------------------------------------\u001b[0m",
      "\u001b[0;31mNameError\u001b[0m                                 Traceback (most recent call last)",
      "Cell \u001b[0;32mIn[1], line 1\u001b[0m\n\u001b[0;32m----> 1\u001b[0m f1_mean \u001b[38;5;241m=\u001b[39m \u001b[43mscores\u001b[49m[\u001b[38;5;124m\"\u001b[39m\u001b[38;5;124mF1\u001b[39m\u001b[38;5;124m\"\u001b[39m]\u001b[38;5;241m.\u001b[39mmean()\n\u001b[1;32m      2\u001b[0m f1_std \u001b[38;5;241m=\u001b[39m scores[\u001b[38;5;124m\"\u001b[39m\u001b[38;5;124mF1\u001b[39m\u001b[38;5;124m\"\u001b[39m]\u001b[38;5;241m.\u001b[39mstd()\n\u001b[1;32m      5\u001b[0m f1_low \u001b[38;5;241m=\u001b[39m f1_mean \u001b[38;5;241m-\u001b[39m \u001b[38;5;241m3\u001b[39m \u001b[38;5;241m*\u001b[39m f1_std\n",
      "\u001b[0;31mNameError\u001b[0m: name 'scores' is not defined"
     ]
    }
   ],
   "source": [
    "f1_mean = scores[\"F1\"].mean()\n",
    "f1_std = scores[\"F1\"].std()\n",
    "\n",
    "\n",
    "f1_low = f1_mean - 3 * f1_std\n",
    "f1_upp = f1_mean + 3 * f1_std\n",
    "\n",
    "\n",
    "ax = sns.histplot(\n",
    "    x=scores[\"F1\"] \n",
    ")\n",
    "\n",
    "x = np.linspace(f1_low, f1_upp, 100)\n",
    "y = norm.pdf(x, loc=f1_mean, scale=f1_std)\n",
    "ax.plot(x, y, color=\"blue\")\n",
    "ax.axvline(f1_mean, color=\"red\", linestyle='dashed')\n",
    "ax.axvline(f1_mean-f1_std, color=\"green\", linestyle='dashed')\n",
    "ax.axvline(f1_mean+f1_std, color=\"green\", linestyle='dashed');\n",
    "\n",
    "plt.gcf()\n",
    "plt.savefig(\"h1.png\", transparent=True)"
   ]
  },
  {
   "cell_type": "code",
   "execution_count": 26,
   "metadata": {},
   "outputs": [
    {
     "data": {
      "text/plain": [
       "<Figure size 640x480 with 0 Axes>"
      ]
     },
     "metadata": {},
     "output_type": "display_data"
    }
   ],
   "source": []
  },
  {
   "cell_type": "markdown",
   "metadata": {
    "id": "axBjhaPgMkeV"
   },
   "source": [
    "## Подбор гипрепараметров"
   ]
  },
  {
   "cell_type": "code",
   "execution_count": 19,
   "metadata": {
    "colab": {
     "base_uri": "https://localhost:8080/"
    },
    "executionInfo": {
     "elapsed": 726924,
     "status": "ok",
     "timestamp": 1685981240748,
     "user": {
      "displayName": "Roman Matantsev",
      "userId": "11743612355519136441"
     },
     "user_tz": -420
    },
    "id": "WWjbVC8kMkeV",
    "outputId": "8bc0ff0a-e647-492c-b5a3-2e09a1ed9f66"
   },
   "outputs": [
    {
     "name": "stdout",
     "output_type": "stream",
     "text": [
      "Fitting 5 folds for each of 10 candidates, totalling 50 fits\n"
     ]
    }
   ],
   "source": [
    "params_grid = {\n",
    "    \"classifier__n_estimators\": range(50, 70, 10),\n",
    "    \"classifier__max_depth\": range(15, 20),\n",
    "}\n",
    "\n",
    "random_search_res = RandomizedSearchCV(\n",
    "    pipe,\n",
    "    params_grid,\n",
    "    n_iter=100,\n",
    "    cv=5,\n",
    "    scoring=\"f1\",\n",
    "    n_jobs=-1,\n",
    "    verbose=1,\n",
    "    refit=True,\n",
    "    random_state=42,\n",
    ").fit(X_train, y_train)"
   ]
  },
  {
   "cell_type": "code",
   "execution_count": null,
   "metadata": {
    "colab": {
     "base_uri": "https://localhost:8080/"
    },
    "executionInfo": {
     "elapsed": 39,
     "status": "ok",
     "timestamp": 1685981240763,
     "user": {
      "displayName": "Roman Matantsev",
      "userId": "11743612355519136441"
     },
     "user_tz": -420
    },
    "id": "ep9mPTjaMkeV",
    "outputId": "d92b751a-41f8-4a14-d9a9-786dee7e9f2f"
   },
   "outputs": [],
   "source": [
    "random_search_res.best_params_"
   ]
  },
  {
   "cell_type": "code",
   "execution_count": 21,
   "metadata": {
    "colab": {
     "base_uri": "https://localhost:8080/"
    },
    "executionInfo": {
     "elapsed": 675,
     "status": "ok",
     "timestamp": 1685981241406,
     "user": {
      "displayName": "Roman Matantsev",
      "userId": "11743612355519136441"
     },
     "user_tz": -420
    },
    "id": "tJ20E7AUMkeV",
    "outputId": "bcaf8076-172e-4350-8a15-73e5d6bce8d8"
   },
   "outputs": [
    {
     "name": "stdout",
     "output_type": "stream",
     "text": [
      "P_candidate: 1.00, R_candidate: 0.61, F1_candidate: 0.75892\n"
     ]
    }
   ],
   "source": [
    "y_pred_candidate = random_search_res.predict(X_test)\n",
    "P_candidate, R_candidate, F1_candidate, _ = precision_recall_fscore_support(y_test, y_pred_candidate, average=\"binary\")\n",
    "print(f\"P_candidate: {P_candidate:.2f}, R_candidate: {R_candidate:.2f}, F1_candidate: {F1_candidate:.5f}\")"
   ]
  },
  {
   "cell_type": "markdown",
   "metadata": {
    "id": "JUmVVurqMkeW"
   },
   "source": [
    "## Упражнение 2\n",
    "\n",
    "1. Постройте с помощью booststrap выборку оценки $F_1$ для лучшей модели после подбора гиперпарамтеров.\n",
    "2. Сравните с помощью t-теста базовую модель и кандидата. Примите $\\alpha = 0.01$\n",
    "3. Попробуйте расширить пространство гипрепараметров, чтобы поиск выдал лучший результат\n"
   ]
  },
  {
   "cell_type": "markdown",
   "metadata": {},
   "source": [
    "$$n = \\frac{2(Z_{\\alpha / 2} + Z_{\\beta})^2 \\sigma^2}{\\delta^2}$$\n",
    "\n",
    "$Z_{\\alpha / 2}$ - критическое значение, соответствующее искомому уровню значимости $\\alpha / 2$. Берется $\\alpha / 2$ потому, что мы рассматриваем двусторонний тест. Значение $\\alpha$ определяет уровень допустимости ошибки первого рода. Как правило $\\alpha$ берется 0.05 для обычных исследовний и 0.01 для случая медицинских исследований или иных, где ошибка первого рода (отвергнута верная нулевая гипотеза) является критически важной.\n",
    "\n",
    "$Z_\\beta$ - критическое значение, соотвествующее заданному уровню статистической мощности. Значение $\\beta$ определяет вероятность ошибки второго рода (принята неверная нулевая гипотеза). Как правило $\\beta$ устанавливается на уровне 0.8 или 0.9.\n",
    "\n",
    "$\\sigma$ - стандартное отклонение\n",
    "\n",
    "$\\delta$ - размер эффекта, который необходимо выловить"
   ]
  },
  {
   "cell_type": "code",
   "execution_count": 27,
   "metadata": {
    "id": "AUMTFNvzMkeW"
   },
   "outputs": [],
   "source": [
    "from sklearn.metrics import roc_auc_score\n",
    "df_cand = pd.DataFrame(data={\n",
    "    \"y_test\": y_test,\n",
    "    \"y_pred\": y_pred_candidate,\n",
    "})\n",
    "\n",
    "scores_cand = pd.DataFrame(data={\n",
    "    \"F1\": 0.0, \"P\": 0.0, \"R\": 0.0, \"AUC\": 0.0\n",
    "}, index=range(bootstrap_iterations))\n",
    "\n",
    "for i in range(bootstrap_iterations):\n",
    "    sample = df_cand.sample(frac=1.0, replace=True)\n",
    "    scores_cand.loc[i, \"F1\"] = f1_score(sample[\"y_test\"], sample[\"y_pred\"])\n",
    "    scores_cand.loc[i, \"P\"] = precision_score(sample[\"y_test\"], sample[\"y_pred\"])\n",
    "    scores_cand.loc[i, \"R\"] = recall_score(sample[\"y_test\"], sample[\"y_pred\"])\n",
    "    scores_cand.loc[i, \"AUC\"] = roc_auc_score(sample[\"y_test\"], sample[\"y_pred\"])"
   ]
  },
  {
   "cell_type": "code",
   "execution_count": 29,
   "metadata": {
    "colab": {
     "base_uri": "https://localhost:8080/",
     "height": 466
    },
    "executionInfo": {
     "elapsed": 32,
     "status": "ok",
     "timestamp": 1685981242028,
     "user": {
      "displayName": "Roman Matantsev",
      "userId": "11743612355519136441"
     },
     "user_tz": -420
    },
    "id": "A2NsPl0WMkeW",
    "outputId": "a3489295-3c4e-48f0-ff9d-ab620666164d"
   },
   "outputs": [
    {
     "data": {
      "image/png": "[encoded data removed]",
      "text/plain": [
       "<Figure size 800x2000 with 4 Axes>"
      ]
     },
     "metadata": {},
     "output_type": "display_data"
    }
   ],
   "source": [
    "# Loop through the columns\n",
    "columns_to_plot = ['F1', 'P', 'R', 'AUC']\n",
    "\n",
    "# Create a figure and axis for the plot\n",
    "fig, axes = plt.subplots(len(columns_to_plot), 1, figsize=(8, 5*len(columns_to_plot)))\n",
    "\n",
    "\n",
    "for i, column in enumerate(columns_to_plot):\n",
    "    # Plot histograms for each dataset\n",
    "    sns.histplot(data=scores, x=column, ax=axes[i], color='blue', label='scores', alpha=0.3)\n",
    "    sns.histplot(data=scores_cand, x=column, ax=axes[i], color='orange', label='scores_cand', alpha=0.3)\n",
    "\n",
    "    # Set plot labels and titles\n",
    "    axes[i].set_xlabel(column)\n",
    "    axes[i].set_ylabel('Count')\n",
    "    axes[i].set_title(f'{column}')\n",
    "\n",
    "    # Add legend\n",
    "    axes[i].legend()\n",
    "\n",
    "# Adjust the layout\n",
    "plt.tight_layout()\n",
    "\n",
    "# Show the plot\n",
    "plt.show()"
   ]
  },
  {
   "cell_type": "code",
   "execution_count": 30,
   "metadata": {
    "colab": {
     "base_uri": "https://localhost:8080/"
    },
    "executionInfo": {
     "elapsed": 30,
     "status": "ok",
     "timestamp": 1685981242030,
     "user": {
      "displayName": "Roman Matantsev",
      "userId": "11743612355519136441"
     },
     "user_tz": -420
    },
    "id": "6tgRW4o5MkeW",
    "outputId": "f3fad769-7a32-450c-af03-d1f950d1e935"
   },
   "outputs": [
    {
     "name": "stdout",
     "output_type": "stream",
     "text": [
      "p-value (F1): 0\t-\tReject null hypothesis.\n",
      "p-value (P): 7.26712e-19\t-\tReject null hypothesis.\n"
     ]
    },
    {
     "name": "stderr",
     "output_type": "stream",
     "text": [
      "Precision loss occurred in moment calculation due to catastrophic cancellation. This occurs when the data are nearly identical. Results may be unreliable.\n"
     ]
    }
   ],
   "source": [
    "alpha = 0.01\n",
    "\n",
    "for name in ['F1', 'P']:\n",
    "    # p-value for F1 score\n",
    "    pvalue = ttest_ind(scores[name], scores_cand[name]).pvalue\n",
    "\n",
    "    print(f\"p-value ({name}): {pvalue:g}\\t-\\t\", end='')\n",
    "    if pvalue < alpha:\n",
    "        print(\"Reject null hypothesis.\")\n",
    "    else:\n",
    "        print(\"Accept null hypothesis.\")\n"
   ]
  },
  {
   "cell_type": "code",
   "execution_count": 31,
   "metadata": {},
   "outputs": [
    {
     "name": "stdout",
     "output_type": "stream",
     "text": [
      "Confidence interval for precision: nan <- 1.0000 -> nan\n"
     ]
    },
    {
     "name": "stderr",
     "output_type": "stream",
     "text": [
      "invalid value encountered in multiply\n",
      "invalid value encountered in multiply\n"
     ]
    }
   ],
   "source": [
    "import numpy as np\n",
    "mean = scores['P'].mean()\n",
    "std_error = scores['P'].std() / np.sqrt(len(scores['P']))\n",
    "confidence_level = 0.95\n",
    "\n",
    "confidence_interval = stats.t.interval(confidence_level, len(scores)-1, mean, std_error)\n",
    "print(f'Confidence interval for precision: {confidence_interval[0]:.4f} <- {scores[\"P\"].mean():.4f} -> {confidence_interval[1]:.4f}')\n"
   ]
  },
  {
   "cell_type": "markdown",
   "metadata": {
    "id": "wMr4RgA3MkeX"
   },
   "source": [
    "## Интерпретация предсказаний\n",
    "\n",
    "Рассмотрим результат анализа с помощью SHAP"
   ]
  },
  {
   "cell_type": "code",
   "execution_count": null,
   "metadata": {
    "colab": {
     "base_uri": "https://localhost:8080/",
     "height": 206
    },
    "executionInfo": {
     "elapsed": 27,
     "status": "ok",
     "timestamp": 1685981242031,
     "user": {
      "displayName": "Roman Matantsev",
      "userId": "11743612355519136441"
     },
     "user_tz": -420
    },
    "id": "c-KYExL7MkeX",
    "outputId": "38d37204-d434-4752-c57a-007e67cb7d31"
   },
   "outputs": [],
   "source": [
    "df[(df[\"y_test\"] == 1) & (df[\"y_pred\"] == 0)].head()"
   ]
  },
  {
   "cell_type": "code",
   "execution_count": null,
   "metadata": {
    "colab": {
     "base_uri": "https://localhost:8080/",
     "height": 210
    },
    "executionInfo": {
     "elapsed": 13208,
     "status": "ok",
     "timestamp": 1685982112390,
     "user": {
      "displayName": "Roman Matantsev",
      "userId": "11743612355519136441"
     },
     "user_tz": -420
    },
    "id": "NUSYsf7WMkeX",
    "outputId": "c064cf11-6d58-4666-dc20-6bfa0e113810"
   },
   "outputs": [],
   "source": [
    "explainer = shap.TreeExplainer(\n",
    "    pipe.named_steps[\"classifier\"],\n",
    "    feature_names=url_vectorizer.get_feature_names_out(),\n",
    ")\n",
    "\n",
    "test_object = X_test.iloc[10]\n",
    "print(test_object)\n",
    "test_object_vect = url_vectorizer.transform([test_object]).toarray()\n",
    "shap_values = explainer.shap_values(test_object_vect)\n",
    "shap.initjs()\n",
    "shap.force_plot(explainer.expected_value[1], shap_values[1], test_object_vect, feature_names=url_vectorizer.get_feature_names_out())"
   ]
  },
  {
   "cell_type": "markdown",
   "metadata": {
    "id": "gTgmHqHuMkeX"
   },
   "source": [
    "## Упражнение 3.\n",
    "\n",
    "Проведите с помощью SHAP анализ ошибок модели обоих типов и дайте предложения по улучшению модели."
   ]
  }
 ],
 "metadata": {
  "colab": {
   "provenance": []
  },
  "kernelspec": {
   "display_name": "Python 3 (ipykernel)",
   "language": "python",
   "name": "python3"
  },
  "language_info": {
   "codemirror_mode": {
    "name": "ipython",
    "version": 3
   },
   "file_extension": ".py",
   "mimetype": "text/x-python",
   "name": "python",
   "nbconvert_exporter": "python",
   "pygments_lexer": "ipython3",
   "version": "3.10.12"
  },
  "vscode": {
   "interpreter": {
    "hash": "916dbcbb3f70747c44a77c7bcd40155683ae19c65e1c03b4aa3499c5328201f1"
   }
  }
 },
 "nbformat": 4,
 "nbformat_minor": 4
}
